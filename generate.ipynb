{
 "cells": [
  {
   "cell_type": "markdown",
   "metadata": {},
   "source": [
    "We'll start by using the [markovify](https://github.com/jsvine/markovify/) library to make some social-media-sized utterances in the style of Jane Austen.  This will be the basis for generating a synthetic social media stream."
   ]
  },
  {
   "cell_type": "code",
   "execution_count": 21,
   "metadata": {},
   "outputs": [
    {
     "name": "stdout",
     "output_type": "stream",
     "text": [
      "Her sorrow, her disappointment, her deep regret, when I take on my guard.\n",
      "Men are very proud of him.\n",
      "Some people call him earlier home.\n",
      "There is not five minutes before she was so plain and her thoughts or fix her wedding-day--and Mr. Elton sauntering about.\n",
      "The former she was sometimes quite provoked, but then she began her relation.\n",
      "The anxieties of common occurrences with all her notions of what she could do nothing at all.\n",
      "She had already mentioned their wishes and affection equally dictated, and I understand it now, and very kind reception of me which I last night to indulge them.\n",
      "Elinor could hardly separate the parts, so as not unlikely that some pains are taken to prevent her from Barton.\n",
      "They will have nothing clever to say--not one of the agitation which she had been made amiable himself; for he vowed he would have thought necessary.\n",
      "Nothing could be three.\n"
     ]
    }
   ],
   "source": [
    "import markovify\n",
    "import codecs\n",
    "\n",
    "with codecs.open(\"austen.txt\", \"r\", \"cp1252\") as f:\n",
    "    text = f.read()\n",
    "\n",
    "austen_model = markovify.Text(text)\n",
    "\n",
    "for i in range(10):\n",
    "    print(austen_model.make_short_sentence(200))"
   ]
  },
  {
   "cell_type": "markdown",
   "metadata": {},
   "source": [
    "We'll use spaCy to identify entities (mostly proper nouns and noun phrases) in these synthetic status updates and turn them into hashtags:"
   ]
  },
  {
   "cell_type": "code",
   "execution_count": 23,
   "metadata": {},
   "outputs": [
    {
     "name": "stdout",
     "output_type": "stream",
     "text": [
      "Chapter 11 The morrow produced no abatement of Mrs. Dashwood it was not hopeless.\n",
      "#Chapter11 The #morrow produced no abatement of Mrs. #Dashwood it was not hopeless.\n",
      "Mr. Darcy, with a very good-natured fellow: while Lady Middleton could no longer what it is!\n",
      "Mr. #Darcy, with a very good-natured fellow: while #LadyMiddleton could no longer what it is!\n",
      "Kitty, to her his hand.\n",
      "#Kitty, to her his hand.\n",
      "If she could not be a different kind.\n",
      "If she could not be a different kind.\n",
      "It is disgraceful to us in mind of Isabella.\n",
      "It is disgraceful to us in mind of #Isabella.\n"
     ]
    }
   ],
   "source": [
    "import spacy\n",
    "nlp = spacy.load('en')\n",
    "\n",
    "def make_sentence(model, length=200):\n",
    "    return model.make_short_sentence(length)\n",
    "    \n",
    "def hashtagify(sentence):\n",
    "    doc = nlp(sentence)\n",
    "    for ent in doc.ents:\n",
    "        sentence = sentence.replace(str(ent), \"#%s\" % str(ent).replace(\" \", \"\"))\n",
    "    return sentence\n",
    "\n",
    "for i in range(5):\n",
    "    sentence = make_sentence(austen_model)\n",
    "    print(sentence)\n",
    "    print(hashtagify(sentence))"
   ]
  },
  {
   "cell_type": "markdown",
   "metadata": {},
   "source": [
    "We'll now train two Markov models on positive and negative product reviews (taken from the [public-domain Amazon fine foods reviews dataset on Kaggle](https://www.kaggle.com/snap/amazon-fine-food-reviews/)).  We'll incorporate the results of these models into our synthetic social media stream."
   ]
  },
  {
   "cell_type": "code",
   "execution_count": 47,
   "metadata": {},
   "outputs": [],
   "source": [
    "import gzip\n",
    "\n",
    "def train_markov_gz(fn):\n",
    "    \"\"\" trains a Markov model on gzipped text data \"\"\"\n",
    "    with gzip.open(fn, \"rt\", encoding=\"utf-8\") as f:\n",
    "        text = f.read()\n",
    "    return markovify.Text(text)\n",
    "\n",
    "negative_model = train_markov_gz(\"reviews-1.txt.gz\")\n",
    "positive_model = train_markov_gz(\"reviews-5-100k.txt.gz\")"
   ]
  },
  {
   "cell_type": "code",
   "execution_count": 48,
   "metadata": {},
   "outputs": [
    {
     "data": {
      "text/plain": [
       "'This new formula other day -- GROSS!'"
      ]
     },
     "execution_count": 48,
     "metadata": {},
     "output_type": "execute_result"
    }
   ],
   "source": [
    "make_sentence(negative_model)"
   ]
  },
  {
   "cell_type": "code",
   "execution_count": 49,
   "metadata": {},
   "outputs": [
    {
     "data": {
      "text/plain": [
       "'She has trouble digesting kibble.'"
      ]
     },
     "execution_count": 49,
     "metadata": {},
     "output_type": "execute_result"
    }
   ],
   "source": [
    "make_sentence(positive_model)"
   ]
  },
  {
   "cell_type": "code",
   "execution_count": null,
   "metadata": {},
   "outputs": [],
   "source": []
  }
 ],
 "metadata": {
  "kernelspec": {
   "display_name": "Python 3.6",
   "language": "python",
   "name": "jupyter"
  },
  "language_info": {
   "codemirror_mode": {
    "name": "ipython",
    "version": 3
   },
   "file_extension": ".py",
   "mimetype": "text/x-python",
   "name": "python",
   "nbconvert_exporter": "python",
   "pygments_lexer": "ipython3",
   "version": "3.6.5"
  }
 },
 "nbformat": 4,
 "nbformat_minor": 2
}
