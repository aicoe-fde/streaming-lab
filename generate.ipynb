{
 "cells": [
  {
   "cell_type": "markdown",
   "metadata": {},
   "source": [
    "We'll start by using the [markovify](https://github.com/jsvine/markovify/) library to make some social-media-sized utterances in the style of Jane Austen.  This will be the basis for generating tweets."
   ]
  },
  {
   "cell_type": "code",
   "execution_count": 2,
   "metadata": {},
   "outputs": [
    {
     "name": "stdout",
     "output_type": "stream",
     "text": [
      "Edward's marriage with Miss Bates, to assure her ladyship than _she_ could have blessed her for her Death!\n",
      "Anne felt an instant oppression, and wherever she looked forward with a look expressive of confidence in their opinion.\n",
      "They were in a less amiable and innocent enjoyments.\n",
      "In all probability be with us, if they saw nothing of the dance was very smart, their manners they evidently think themselves secure, you do not.\n",
      "Let us go and tell me.\n",
      "His kindness in the course of her lodgings before she had tried it, and with spirits elated to rapture, with Henry at such an addition in the dining-room.\n",
      "The situation of the Rev. George Austen, this work in such weather might occasion at home, she might have passed unnoticed.\n",
      "She spoke from the door of our Corresponding; I assure you, Miss Woodhouse, as the next to your brother or sister; and Lady Russell should see something else.\n",
      "They could not have asked it of much consequence.\n",
      "Sotherton is the only one syllable.\n"
     ]
    }
   ],
   "source": [
    "import markovify\n",
    "import codecs\n",
    "\n",
    "with codecs.open(\"austen.txt\", \"r\", \"cp1252\") as f:\n",
    "    text = f.read()\n",
    "\n",
    "text_model = markovify.Text(text)\n",
    "\n",
    "for i in range(10):\n",
    "    print(text_model.make_short_sentence(200))"
   ]
  },
  {
   "cell_type": "code",
   "execution_count": 19,
   "metadata": {},
   "outputs": [
    {
     "name": "stdout",
     "output_type": "stream",
     "text": [
      "Neither for your seeing him soon become more like the forerunner of something else.\n",
      "()\n",
      "Neither for your seeing him soon become more like the forerunner of something else.\n",
      "\n",
      "It was performed without much incommoding him, while he seemed to declare that the prudent advice of her aunt entirely.\n",
      "()\n",
      "It was performed without much incommoding him, while he seemed to declare that the prudent advice of her aunt entirely.\n",
      "\n",
      "She had the satisfaction which a friend or two I was sure they are Lady Middleton's arrival, without once stirring from her heart.\n",
      "(two, Lady Middleton's)\n",
      "She had the satisfaction which a friend or #two I was sure they are #LadyMiddleton's arrival, without once stirring from her heart.\n",
      "\n",
      "Lady Catherine and Lydia were far from Miss Crawford saw much of her dancing, and music.\n",
      "(Lady Catherine, Lydia, Miss Crawford)\n",
      "#LadyCatherine and #Lydia were far from #MissCrawford saw much of her dancing, and music.\n",
      "\n",
      "Towards the close of their conversation.\n",
      "()\n",
      "Towards the close of their conversation.\n",
      "\n",
      "That it was more than begin upon the table was altogether very pretty.\n",
      "()\n",
      "That it was more than begin upon the table was altogether very pretty.\n",
      "\n",
      "We should all be together again?\n",
      "()\n",
      "We should all be together again?\n",
      "\n",
      "It was accepted; and though I endeavoured to persuade his daughter appeared.\n",
      "()\n",
      "It was accepted; and though I endeavoured to persuade his daughter appeared.\n",
      "\n",
      "And as for the sake of the room almost immediately.\n",
      "()\n",
      "And as for the sake of the room almost immediately.\n",
      "\n",
      "And his person, his manners were the mirror of her father's account, it would have nothing to do nothing.\n",
      "()\n",
      "And his person, his manners were the mirror of her father's account, it would have nothing to do nothing.\n",
      "\n"
     ]
    }
   ],
   "source": [
    "import spacy\n",
    "nlp = spacy.load('en')\n",
    "\n",
    "for i in range(10):\n",
    "    sentence = text_model.make_short_sentence(200)\n",
    "    print(sentence)\n",
    "    doc = nlp(sentence)\n",
    "    print(doc.ents)\n",
    "    for ent in doc.ents:\n",
    "        sentence = sentence.replace(str(ent), \"#%s\" % str(ent).replace(\" \", \"\"))\n",
    "    print(sentence + \"\\n\")"
   ]
  },
  {
   "cell_type": "code",
   "execution_count": 10,
   "metadata": {},
   "outputs": [],
   "source": [
    "lines = text.split(\".\")"
   ]
  },
  {
   "cell_type": "code",
   "execution_count": 11,
   "metadata": {},
   "outputs": [
    {
     "data": {
      "text/plain": [
       "35630"
      ]
     },
     "execution_count": 11,
     "metadata": {},
     "output_type": "execute_result"
    }
   ],
   "source": [
    "len(lines)"
   ]
  },
  {
   "cell_type": "code",
   "execution_count": null,
   "metadata": {},
   "outputs": [],
   "source": []
  }
 ],
 "metadata": {
  "kernelspec": {
   "display_name": "Python 3.6",
   "language": "python",
   "name": "jupyter"
  },
  "language_info": {
   "codemirror_mode": {
    "name": "ipython",
    "version": 3
   },
   "file_extension": ".py",
   "mimetype": "text/x-python",
   "name": "python",
   "nbconvert_exporter": "python",
   "pygments_lexer": "ipython3",
   "version": "3.6.5"
  }
 },
 "nbformat": 4,
 "nbformat_minor": 2
}
