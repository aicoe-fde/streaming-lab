{
 "cells": [
  {
   "cell_type": "markdown",
   "metadata": {},
   "source": [
    "We'll start by using the [markovify](https://github.com/jsvine/markovify/) library to make some social-media-sized utterances in the style of Jane Austen.  This will be the basis for generating a synthetic social media stream."
   ]
  },
  {
   "cell_type": "code",
   "execution_count": 1,
   "metadata": {},
   "outputs": [
    {
     "name": "stdout",
     "output_type": "stream",
     "text": [
      "He began by speaking of her with so much dignified impertinence.\n",
      "You should not have been.\n",
      "Emma was sadly fearful that this second disappointment would be more becoming in her not to neglect it on any account.\n",
      "Although I had always despised her from the evil of a restless, officious companion, too apt to look.\n",
      "He has a fine dignified manner, which suits the head of the sinner; for when poor Lady Elliot died herself, no letter of condolence had been sent to Ireland.\n",
      "On the morrow the Crawfords were engaged to me ever since my marriage, I had seen Marianne's sweet face as white as my gown.\n",
      "Ought he not to have attempted more.\n",
      "His aunt worried him by her manner this morning, and cannot get the better of those false ideas of the necessity of reading aloud, which had fallen within his observation, that he had _cause_ to sigh.\n",
      "It was, indeed, a highly prized letter.\n",
      "For you alone, I think and plan.\n"
     ]
    }
   ],
   "source": [
    "import markovify\n",
    "import codecs\n",
    "\n",
    "with codecs.open(\"austen.txt\", \"r\", \"cp1252\") as f:\n",
    "    text = f.read()\n",
    "\n",
    "austen_model = markovify.Text(text, retain_original=False, state_size=3)\n",
    "\n",
    "for i in range(10):\n",
    "    print(austen_model.make_short_sentence(200))"
   ]
  },
  {
   "cell_type": "markdown",
   "metadata": {},
   "source": [
    "We'll use spaCy to identify entities (mostly proper nouns and noun phrases) in these synthetic status updates and turn them into hashtags:"
   ]
  },
  {
   "cell_type": "code",
   "execution_count": 2,
   "metadata": {},
   "outputs": [
    {
     "name": "stdout",
     "output_type": "stream",
     "text": [
      "I hope you will do him such ample justice, that I am an advocate for marriage without love?\n",
      "I hope you will do him such ample justice, that I am an advocate for marriage without love?\n",
      "Chapter 14 Though Charles and Mary still talked on in the same place, was bad for each, for all three.\n",
      "Chapter 14 Though #Charles and #Mary still talked on in the same place, was bad for each, for all #three.\n",
      "Fanny Price was at this time of year.\n",
      "#FannyPrice was at #thistimeofyear.\n",
      "It was a happy woman, and a very few weeks would be sufficient for such arrangements as must precede the wedding.\n",
      "It was a happy woman, and #averyfewweeks would be sufficient for such arrangements as must precede the wedding.\n",
      "Mary had no feelings to make her resolve on remaining at Norland no longer than was unavoidable, it had not afforded.\n",
      "Mary had no feelings to make her resolve on remaining at #Norland no longer than was unavoidable, it had not afforded.\n"
     ]
    }
   ],
   "source": [
    "import spacy\n",
    "nlp = spacy.load('en')\n",
    "\n",
    "def make_sentence(model, length=200):\n",
    "    return model.make_short_sentence(length)\n",
    "    \n",
    "def hashtagify_full(sentence):\n",
    "    doc = nlp(sentence)\n",
    "    for ent in doc.ents:\n",
    "        sentence = sentence.replace(str(ent), \"#%s\" % str(ent).replace(\" \", \"\"))\n",
    "    return (sentence, [\"#%s\" % str(ent).replace(\" \", \"\") for ent in doc.ents])\n",
    "\n",
    "def hashtagify(sentence):\n",
    "    result,_ = hashtagify_full(sentence)\n",
    "    return result\n",
    "\n",
    "for i in range(5):\n",
    "    sentence = make_sentence(austen_model)\n",
    "    print(sentence)\n",
    "    print(hashtagify(sentence))"
   ]
  },
  {
   "cell_type": "markdown",
   "metadata": {},
   "source": [
    "We'll now train two Markov models on positive and negative product reviews (taken from the [public-domain Amazon fine foods reviews dataset on Kaggle](https://www.kaggle.com/snap/amazon-fine-food-reviews/)).  We'll incorporate the results of these models into our synthetic social media stream."
   ]
  },
  {
   "cell_type": "code",
   "execution_count": 3,
   "metadata": {},
   "outputs": [],
   "source": [
    "import gzip\n",
    "\n",
    "def train_markov_gz(fn):\n",
    "    \"\"\" trains a Markov model on gzipped text data \"\"\"\n",
    "    with gzip.open(fn, \"rt\", encoding=\"utf-8\") as f:\n",
    "        text = f.read()\n",
    "    return markovify.Text(text, retain_original=False, state_size=3)\n",
    "\n",
    "negative_model = train_markov_gz(\"reviews-1.txt.gz\")\n",
    "positive_model = train_markov_gz(\"reviews-5-100k.txt.gz\")"
   ]
  },
  {
   "cell_type": "code",
   "execution_count": 4,
   "metadata": {},
   "outputs": [
    {
     "data": {
      "text/plain": [
       "'Ick.'"
      ]
     },
     "execution_count": 4,
     "metadata": {},
     "output_type": "execute_result"
    }
   ],
   "source": [
    "make_sentence(negative_model)"
   ]
  },
  {
   "cell_type": "code",
   "execution_count": 5,
   "metadata": {},
   "outputs": [
    {
     "data": {
      "text/plain": [
       "'Great stuff.'"
      ]
     },
     "execution_count": 5,
     "metadata": {},
     "output_type": "execute_result"
    }
   ],
   "source": [
    "make_sentence(positive_model)"
   ]
  },
  {
   "cell_type": "markdown",
   "metadata": {},
   "source": [
    "We can combine these models with relative weights, but this yields somewhat unusual results:"
   ]
  },
  {
   "cell_type": "code",
   "execution_count": 6,
   "metadata": {},
   "outputs": [],
   "source": [
    "compound_model = markovify.combine([austen_model, negative_model, positive_model], [14, 3, 3])"
   ]
  },
  {
   "cell_type": "code",
   "execution_count": 7,
   "metadata": {},
   "outputs": [
    {
     "name": "stdout",
     "output_type": "stream",
     "text": [
      "Anyway, the whole family and they all came in sugar free!!!But they are wonderful you will not go.\n",
      "There was also a good idea to use very much to have enjoyed their unique taste.\n",
      "This is one I fix when I don't have any scent that other ingredients might individually offer.\n",
      "Not astonishingly strong, but pretty rich and balanced.\n",
      "Several of them broke open in the pot and could not touch it; and #Emma, never loth to be #first, was obliged to repeat again and again, as if nothing were a security for matrimonial comfort.\n",
      "#MapleGrove will probably be ordering more.\n",
      "I bought these as a child . If you like soft licorice - then don't buy this.\n",
      "This tea is so horrible. i cannot believe all the hype on this product and the best of both worlds: the vitamins/minerals of a fortified cereal without all of the grocery stores #today.\n",
      "However what I received #today...\n",
      "She had been bounced around from house to house and eating whatever was cheap.\n",
      "I love to make cake pops.\n",
      "It's really too bad because its too expensive.\n",
      "I am grown neither humble nor penitent by what has passed.\n",
      "But whether I should continue to take it away for fear that somebody it just getting rid of the other house, and on the present occasion, as far at least as recently as #theearly70s.\n",
      "$#27.99 for #sixounces?\n",
      "It's like I remember it brings back wonderful memories.\n",
      "Sort of a smooth, silky feel in the mouth, and seemed to do fine but then began getting very loose stools.\n",
      "To expose a friend, such a friend as #Isabella had been to hear papa invite him to say what gave no one any pain but herself.\n",
      "My whole family enjoys them.\n",
      "I hav not tried #Truvia but probably won't buy anymore nuts from #Amazon.\n"
     ]
    }
   ],
   "source": [
    "for i in range(20):\n",
    "    print(hashtagify(make_sentence(compound_model)))"
   ]
  },
  {
   "cell_type": "markdown",
   "metadata": {},
   "source": [
    "As is more or less the case in the real world, we'll assume that a small percentage of users are responsible for the bulk of social media activity, and that the bulk of users are responsible for relatively few posts.  We'll model this with a table of random user IDs that has a collection of relatively few talkative users and relatively many moderate users; the proportion of utterances from talkative users to utterances from moderate users is the inverse of the proportion of talkative users to moderate users."
   ]
  },
  {
   "cell_type": "code",
   "execution_count": 8,
   "metadata": {},
   "outputs": [],
   "source": [
    "import numpy\n",
    "import math\n",
    "import collections\n",
    "\n",
    "class UserTable(object):\n",
    "    def __init__(self, size, weights=[8, 2]):\n",
    "        self._talkative = collections.deque()\n",
    "        self._moderate = collections.deque()\n",
    "        self._size = size\n",
    "        self._cutoff = float(weights[0]) / sum(weights)\n",
    "        \n",
    "        for i in range(size):\n",
    "            new_uid = math.floor(numpy.random.uniform(10 ** 10))\n",
    "            if numpy.random.uniform() >= self._cutoff:\n",
    "                self._moderate.append(new_uid)\n",
    "            else:\n",
    "                self._talkative.append(new_uid)\n",
    "    \n",
    "    def random_uid(self):\n",
    "        def choose_from(c):\n",
    "            return c[math.floor(numpy.random.uniform() * len(c))]\n",
    "        \n",
    "        if numpy.random.uniform() >= self._cutoff:\n",
    "            return choose_from(self._talkative)\n",
    "        else:\n",
    "            return choose_from(self._moderate)\n",
    "        "
   ]
  },
  {
   "cell_type": "code",
   "execution_count": 9,
   "metadata": {},
   "outputs": [],
   "source": [
    "import seaborn"
   ]
  },
  {
   "cell_type": "markdown",
   "metadata": {},
   "source": [
    "We can see the number of times each user ID appears if we ask the `UserTable` for 1000 random user IDs:"
   ]
  },
  {
   "cell_type": "code",
   "execution_count": 10,
   "metadata": {},
   "outputs": [
    {
     "data": {
      "text/plain": [
       "<matplotlib.axes._subplots.AxesSubplot at 0x1ae73baa20>"
      ]
     },
     "execution_count": 10,
     "metadata": {},
     "output_type": "execute_result"
    },
    {
     "data": {
      "image/png": "[encoded data removed]",
      "text/plain": [
       "<Figure size 432x288 with 1 Axes>"
      ]
     },
     "metadata": {},
     "output_type": "display_data"
    }
   ],
   "source": [
    "ut = UserTable(100)\n",
    "uids = [ut.random_uid() for i in range(1000)]\n",
    "seaborn.countplot(uids)"
   ]
  },
  {
   "cell_type": "code",
   "execution_count": 32,
   "metadata": {},
   "outputs": [],
   "source": [
    "def generate_tweets(models, weights=None, hashtag_weights=[8, 2], ut=None, seed_hashtags=[]):\n",
    "    if weights is None:\n",
    "        weights = [1] * len(models)\n",
    "    \n",
    "    if ut is None:\n",
    "        ut = UserTable(10000)\n",
    "    \n",
    "    choices = []\n",
    "    \n",
    "    total_weight = float(sum(weights))\n",
    "    \n",
    "    for i in range(len(weights)):\n",
    "        choices.append((float(sum(weights[0:i+1])) / total_weight, models[i]))\n",
    "    \n",
    "    def choose_model():\n",
    "        r = numpy.random.uniform()\n",
    "        for (p, m) in choices:\n",
    "            if r <= p:\n",
    "                return m\n",
    "        return choices[-1][1]\n",
    "    \n",
    "    seen_hashtags = set()\n",
    "    hashtags = []\n",
    "    total_hashtag_weight = float(sum(hashtag_weights))\n",
    "    for i in range(len(hashtag_weights)): \n",
    "        hashtags.append((float(sum(hashtag_weights[0:i+1])) / total_hashtag_weight, collections.deque()))\n",
    "    \n",
    "    iws = [1.0 - w for (w, _) in hashtags]\n",
    "    inverse_weights = [(sum(iws[0:i+1]), i) for _, i in zip(iws, range(len(iws)))]    \n",
    "\n",
    "    def choose_from(c):\n",
    "        idx = math.floor(numpy.random.uniform() * len(c))\n",
    "        return c[idx]\n",
    "    \n",
    "    def store_hashtag(tag):\n",
    "        if tag not in seen_hashtags:\n",
    "            seen_hashtags.add(str(tag))\n",
    "            r = numpy.random.uniform()\n",
    "            for(p, deq) in hashtags:\n",
    "                if r <= p:\n",
    "                    deq.append(tag)\n",
    "    \n",
    "    def choose_hashtag():\n",
    "        r = numpy.random.uniform()\n",
    "        for(p, i) in hashtags:\n",
    "            if r <= - p and len(hashtags[i][1]) > 0:\n",
    "                return choose_from(hashtags[i][1])\n",
    "        return len(hashtags[0][1]) > 0 and choose_from(hashtags[0][1]) or choose_from(hashtags[1][1])\n",
    "    \n",
    "    for tag in seed_hashtags:\n",
    "        seen_hashtags.add(str(tag))\n",
    "        hashtags[-1][1].append(str(tag))\n",
    "    \n",
    "    while True:\n",
    "        tweet, tags = hashtagify_full(make_sentence(choose_model()))\n",
    "        for tag in tags:\n",
    "            store_hashtag(str(tag))\n",
    "        \n",
    "        this_tweet_tags = set([str(t) for t in tags])\n",
    "        \n",
    "        if len(seen_hashtags) > 0:\n",
    "            for i in range(min(numpy.random.poisson(3), len(seen_hashtags))):\n",
    "                tag = choose_hashtag()\n",
    "                if str(tag) not in this_tweet_tags:\n",
    "                    this_tweet_tags.add(str(tag))\n",
    "                    tweet += \" %s\" % str(tag)\n",
    "            \n",
    "        yield (ut.random_uid(), tweet)"
   ]
  },
  {
   "cell_type": "code",
   "execution_count": 33,
   "metadata": {},
   "outputs": [],
   "source": [
    "seed_hashtags=[\"#ff\", \"#marketing\", \"#fail\", \"#followfriday\", \"#yolo\", \"#retweet\", \"#tbt\", \"#socialmedia\", \"#startup\", \"#blogpost\", \"#news\", \"#health\"]\n",
    "\n",
    "t = generate_tweets([austen_model, positive_model, negative_model, compound_model], [22, 4, 4, 2], seed_hashtags=seed_hashtags)"
   ]
  },
  {
   "cell_type": "code",
   "execution_count": 34,
   "metadata": {},
   "outputs": [
    {
     "data": {
      "text/plain": [
       "<generator object generate_tweets at 0x1ae77b1990>"
      ]
     },
     "execution_count": 34,
     "metadata": {},
     "output_type": "execute_result"
    }
   ],
   "source": [
    "t"
   ]
  },
  {
   "cell_type": "code",
   "execution_count": 35,
   "metadata": {
    "scrolled": true
   },
   "outputs": [
    {
     "data": {
      "text/plain": [
       "[(4919108956,\n",
       "  'If a woman conceals her affection with the same intent, just then the stoutest of the #three; for the very exertion to which he was to proceed on his journey to Town. #health'),\n",
       " (2321890080,\n",
       "  'It has protein as well, which I appreciate as a mom. #fail #retweet #tbt'),\n",
       " (8288438770,\n",
       "  \"Yes, that's how good these blueberries are! #startup #health #yolo #socialmedia\"),\n",
       " (3873645654,\n",
       "  \"Mr. #Elton's engagement in the conversation of Mr #Cleveland. #three #news #ff\"),\n",
       " (2866175761,\n",
       "  'It was impossible for her not to be supposed that he would still love, and still hope! #health #three'),\n",
       " (9553742504,\n",
       "  'In such a frame of mind as she was resettled, was looking forward with eagerness. #yolo #news'),\n",
       " (7212767217,\n",
       "  'Depend upon it, that is a place, indeed, and we had a rehearsal. #Cleveland #ff'),\n",
       " (4953926703,\n",
       "  \"I wouldn't stop taking this tea for menstral cramps. #followfriday #marketing #socialmedia #yolo\"),\n",
       " (9760872753, 'Clearly adictive #Haribo product. #news #fail #yolo'),\n",
       " (9399882181,\n",
       "  'The light they give off is pink and doesnt taste like plastic!!!KEEP AWAY FROM ZICO, until they change to GMO free items. #tbt'),\n",
       " (3342614033,\n",
       "  'No; he was talking to Miss #Fairfax. #marketing #fail #health #Cleveland'),\n",
       " (3886111789,\n",
       "  'This was the season of happiness to #Marianne. #retweet #tbt #fail'),\n",
       " (2224935228, 'But ah! united, what reverse we have! #marketing #Marianne'),\n",
       " (593851227,\n",
       "  'After securing accommodations, and ordering a dinner at #Hartfield for the #Eltons.'),\n",
       " (5916981711, 'I must go away. #blogpost #Fairfax'),\n",
       " (9618905701,\n",
       "  'He is not a bit better than the obsolete survival of the sentimental novel represented by #MarianneDashwood. #retweet #health #Fairfax'),\n",
       " (3703665075, 'Oh, did I mention fresh? #news #three #blogpost #tbt'),\n",
       " (8700765252,\n",
       "  'His coming to visit them. #three #Fairfax #Marianne #marketing #Hartfield'),\n",
       " (2222522121, 'This is a total waste of money.'),\n",
       " (1251878805,\n",
       "  \"#Halfanhour passed away, and #Catherine, having spent the best part of an #Englishman's constitution. #fail\"),\n",
       " (4333999649, \"It didn't taste like coconut! #Cleveland #health #yolo #fail\"),\n",
       " (6354044852,\n",
       "  'It was so long in company with #two men, striking instances of what I had ever done before. #fail #Marianne #Cleveland'),\n",
       " (394410389,\n",
       "  \"In no countenance was attentive curiosity so strongly marked as in Miss #Bingley's, in spite of all the privacy and propriety which was talked about at #first. #Hartfield #Catherine\"),\n",
       " (9973510655,\n",
       "  'My poor mother is really ill, and keeps her room. #news #retweet'),\n",
       " (6488301657, 'As he said this, each looked towards their mother. #retweet'),\n",
       " (6832681644,\n",
       "  'We would giggle at the fact that the Mi-Del cookies are low-fat and use some organic ingredients. #followfriday #retweet #news #first #Englishman'),\n",
       " (8442727273, 'So I took a sip. #Cleveland #Hartfield #news #Halfanhour'),\n",
       " (399057138, 'We returned it. #Hartfield #health #three'),\n",
       " (6438108847,\n",
       "  'Mr. #Phillips visited them all, and especially to her friend. #news #followfriday #Bingley #two #Eltons #Marianne #first #Fairfax #Cleveland'),\n",
       " (9985258002,\n",
       "  'It was so long since #Fanny had had any letter from #JaneFairfax. #yolo #followfriday'),\n",
       " (2388950590,\n",
       "  'Too soon did she find herself prevented by a settled rain from going out again after dinner.'),\n",
       " (8130810245, '#Frederica makes me very unhappy! #socialmedia #three'),\n",
       " (152927674, 'And she did not talk of that odious man. #socialmedia #ff #tbt'),\n",
       " (7639367133,\n",
       "  '#Anne could only feel that #CharlesHayter was not well inclined towards Captain #Wentworth. #socialmedia #Marianne #Eltons'),\n",
       " (4291665030,\n",
       "  'Most earnestly did she despise her daughter-in-law for it, that, on the arrival of #Saturday. #Marianne'),\n",
       " (7915444217,\n",
       "  'Indeed I do you justice, my good friend. #socialmedia #Bingley #Englishman #Catherine #news #JaneFairfax #followfriday'),\n",
       " (8833516911,\n",
       "  'This is great food and all his friends #LOVE the Switch Black Cherry is a healthy breakfast for you Unlike some other brands of shredded wheat. #ff #tbt #Englishman #Frederica'),\n",
       " (9469380334,\n",
       "  'My dogs are finicky about what she eats, she usually behaves much more enthusiastic about a product. #yolo #first #followfriday'),\n",
       " (3235807434,\n",
       "  'Thrush in all his notions and behaviour; not likely to produce evil to her. #Marianne #Cleveland #Halfanhour #marketing'),\n",
       " (6759680239,\n",
       "  'A variety of occupations, of objects, and of company, which could not be mistaken,--it _was_ #Edward. #yolo #fail'),\n",
       " (3769769087,\n",
       "  'His behaviour to her sister should perceive that she experienced nothing but grief and disappointment in the course of #threeorfourdays could produce any. #fail'),\n",
       " (6449278268,\n",
       "  'She was sure they must be talking of #Bath, when I am here. #Edward #two #Fairfax #Anne'),\n",
       " (461661988,\n",
       "  'She had thought her wretchedly altered, and in the #first and the handsomest; and after paying his compliments en passant to #MissBates and her niece, who had accidentally met. #LOVE #Hartfield'),\n",
       " (9704213137,\n",
       "  'As Mr #Shepherd perceived that this connexion of the Crofts did them no service with Sir #Walter, he mentioned it no more; returning, with all his heart. #retweet #Catherine #followfriday #Saturday'),\n",
       " (9379994399,\n",
       "  '#Elizabeth longed to observe that she had been wont to suppose. #startup #followfriday'),\n",
       " (9438789668,\n",
       "  'He had ruined for a while would be a #ninth--and #Emma apprehended that it would have been enough for #Anne; but #LadyRussell saw either less or more than her young friend. #health #Englishman'),\n",
       " (7087291541, 'They separated too much into parties.'),\n",
       " (4755154804,\n",
       "  'Her astonishment and confusion were very great on his so sudden appearance. #threeorfourdays #Eltons #startup #followfriday'),\n",
       " (8168063914, 'Have you had any flirting? #first #Elizabeth'),\n",
       " (4618630492, 'You are quite enough alike. #fail #tbt'),\n",
       " (5971801089,\n",
       "  'I used to think it is fair traded and price-competitive.The Millstone #KonaBlend tastes essentially the same since it dissolves in cold tea. #Bath #retweet #yolo'),\n",
       " (450922284,\n",
       "  \"It's the best tea on the smallest setting on the bread machine, and added raisins cinnamon and sugar without being overpoweringly so. #followfriday #LOVE #Marianne #three #ff\"),\n",
       " (952893218,\n",
       "  \"I don't like the taste, but it's a dark color, slimy and off tasting. #two #Fairfax #Frederica #Cleveland #news\"),\n",
       " (5496778563,\n",
       "  'Not so #theMissSteeles. #KonaBlend #Hartfield #yolo #threeorfourdays'),\n",
       " (7152123632,\n",
       "  \"#Anne's object was, not to be ready in time; for she may have a natural talent for--thinks strongly and clearly--and when he takes a pen in hand, his thoughts naturally find proper words. #Bath #Cleveland\"),\n",
       " (9326183240,\n",
       "  '#Marianne looked very grave and said nothing. #Bingley #Bath #JaneFairfax'),\n",
       " (5742785569,\n",
       "  'I suppose I shall not easily forget its having stopped #twohours at #PettyFrance. #news'),\n",
       " (1788658840,\n",
       "  'When he questioned, Sir #Walter and #Miss. They are gone off together from #Brighton. #Shepherd #Emma'),\n",
       " (5854714591,\n",
       "  '#Elizabeth immediately began playing again. #followfriday #Edward #Elton'),\n",
       " (2062223248,\n",
       "  'It is not for us to be going to tell me that we never were to meet #MissTilney again continued in full force at the end of the gallery, stood before her! #Englishman'),\n",
       " (6314739995,\n",
       "  'My wife and I drank this coffee black which I rarely do but any creamer would have just thrown out the remaining jars. #yolo #Fairfax #startup'),\n",
       " (900814851,\n",
       "  'Every time I have share the chips with selected friends that pass for energy drinks. #Eltons #Anne'),\n",
       " (5278058847,\n",
       "  'His admiration was certainly very warm; yet she thought, but for Mrs. #Weston, it would not have had poor #James think himself slighted upon any account; and I am not afraid. #retweet'),\n",
       " (7801351645,\n",
       "  \"#Bingley had never met before, and those who met too often; a commonplace business, too numerous for intimacy, too small for anybody's comfort. #ff #Frederica #KonaBlend\"),\n",
       " (684973748, 'I read multiple reviews on the site?'),\n",
       " (3104873366,\n",
       "  'She feared that under this persuasion she had been so long concealed? #PettyFrance'),\n",
       " (296132541, '#Afewhours were to have on the #morrow. #two #KonaBlend'),\n",
       " (1211660671,\n",
       "  'He was too diffident to do justice to the character of her own disinclination for going to #London. #yolo'),\n",
       " (2382997434,\n",
       "  'How often have I wished that I possessed as little Personal Beauty as you do; who have not, at least, been given a taste for those sort of visits conveyed, might shortly be over. #Cleveland #Halfanhour'),\n",
       " (5213456829, 'This coffee is a winner. #Englishman #yolo #Bath #Shepherd'),\n",
       " (3285590114, 'To retreat was impossible. #KonaBlend #morrow'),\n",
       " (2747213011, 'Did you think me already. #PettyFrance #morrow'),\n",
       " (5994597262,\n",
       "  'I was thoroughly unwilling to let her be an active, useful sort of person, not brought up high, but able to make my brother like her. #theMissSteeles #morrow #yolo #Anne'),\n",
       " (9048591904, \"Can't beat the convenience! #James #Emma\"),\n",
       " (9450941761,\n",
       "  'But--good Lord! how unlucky! #first #threeorfourdays #followfriday #Hartfield #news'),\n",
       " (4538204684, 'Later I went back to #three. #Englishman'),\n",
       " (303574565,\n",
       "  'It was a stab, in spite of all the dialogue which ensued of surprize, and inquiry, and congratulations on her side, and I can _answer_ for its being returned. #Saturday #followfriday'),\n",
       " (4291665030,\n",
       "  'I am all impatience to see the #Thrush before she went off to see #Edward. #ff'),\n",
       " (1346041157, 'It would be a valuable neighbour to Mrs. #Bennet. #Saturday'),\n",
       " (7374097662,\n",
       "  'It is too ridiculous! #Emma #marketing #first #Elizabeth #health'),\n",
       " (1505084229,\n",
       "  \"This was so material an amendment of his late father's steward, to be his home, was pondering with downcast eyes and contracted brow, she felt secure from all possibility of wronging him. #London\"),\n",
       " (2924402958,\n",
       "  'Who could be happier than ever; and were we at liberty, I doubt if I could see she was altered; but, however, she seemed to _try_ to be very much in love with #ReginaldDeCourcy! #Emma #Elton'),\n",
       " (4214961777,\n",
       "  \"Packaging is awesome and I love this candy and I couldn't do it! #Thrush #first #ff\"),\n",
       " (1812911863,\n",
       "  'However, #Amazon has easy return process. #KonaBlend #MissTilney #Englishman'),\n",
       " (8526601574, 'They were obliged to move. #Emma #PettyFrance #Thrush'),\n",
       " (6875955234, 'Mr. #Crawford has been kept waiting too long already. #Edward'),\n",
       " (691433228, 'Not. #morrow #startup #Weston'),\n",
       " (4078752725,\n",
       "  'The ##first solid consolation which #Fanny received for the evils of home, the ##first which her judgment could entirely approve, and which gave any promise of durability, was in a better way, I am sure.'),\n",
       " (3782650374,\n",
       "  'And they think she will have more to say. #health #Marianne #Eltons #Englishman #Anne'),\n",
       " (4818074797,\n",
       "  \"I have read your feelings, as I think you and I must say that, to be making love, by breaking his mistress's head, is not it, for a cold to hang upon her? #fail #startup #LOVE #Halfanhour\"),\n",
       " (4110704046,\n",
       "  '#JohnKnightley only was in mute astonishment.--That a man who has not a bad face, but there is something wanting--his figure is not striking; but I think there may be peace. #marketing'),\n",
       " (5907860263,\n",
       "  'This however was more than satisfied, for she came perfectly aware that none would be felt, and if I do not indeed. #retweet #Bingley #health #Elton #Englishman #Halfanhour #Amazon'),\n",
       " (9164208785,\n",
       "  'This product has bad reviews because it is considered perishable item. #Fairfax #theMissSteeles #PettyFrance #Elizabeth'),\n",
       " (4923548050,\n",
       "  'But I will pawn to you an undirected Letter that I received from #Chloe. #Bath #health #Saturday #followfriday'),\n",
       " (6469661309,\n",
       "  'The stiffness of the meeting soon gave way before their popular manners and more diffused intimacies: little groups were formed, and everybody grew comfortable. #fail #marketing'),\n",
       " (2546862783,\n",
       "  \"How can this sugar-free, taste-free, light and fluffy as #Redenbacher's. #Shepherd #fail\"),\n",
       " (6218402611,\n",
       "  'Maria desired no greater pleasure than ever in her opinion, of all things in the world than her real #eight-and-thirty. #followfriday #health #MissTilney #Marianne #Catherine'),\n",
       " (6030506410,\n",
       "  'Though #Julia fancies she prefers tragedy, I would not trust her in it. #ReginaldDeCourcy #Eltons #Cleveland'),\n",
       " (8862611867,\n",
       "  'You might, some time or other, to look at--or my tour to read--or my poem. #retweet'),\n",
       " (8266791414,\n",
       "  'But his pride, his abominable pride--his shameless avowal of what he had done which satisfied her; his style was not penitent, but haughty. #Brighton #Eltons #fail')]"
      ]
     },
     "execution_count": 35,
     "metadata": {},
     "output_type": "execute_result"
    }
   ],
   "source": [
    "[next(t) for i in range(100)]"
   ]
  },
  {
   "cell_type": "code",
   "execution_count": null,
   "metadata": {},
   "outputs": [],
   "source": [
    "import cProfile\n",
    "\n",
    "def timing(c):\n",
    "    for _ in range(c):\n",
    "        next(t)\n",
    "\n",
    "cProfile.run('timing(2000)', 'generatestats')"
   ]
  },
  {
   "cell_type": "code",
   "execution_count": null,
   "metadata": {},
   "outputs": [],
   "source": [
    "import pstats\n",
    "p = pstats.Stats('generatestats')\n",
    "p.strip_dirs().sort_stats(-1).print_stats()"
   ]
  },
  {
   "cell_type": "code",
   "execution_count": null,
   "metadata": {},
   "outputs": [],
   "source": [
    "import pstats\n",
    "p = pstats.Stats('generatestats-old')\n",
    "p.strip_dirs().sort_stats(-1).print_stats()"
   ]
  },
  {
   "cell_type": "code",
   "execution_count": null,
   "metadata": {},
   "outputs": [],
   "source": []
  }
 ],
 "metadata": {
  "kernelspec": {
   "display_name": "Python 3.6",
   "language": "python",
   "name": "jupyter"
  },
  "language_info": {
   "codemirror_mode": {
    "name": "ipython",
    "version": 3
   },
   "file_extension": ".py",
   "mimetype": "text/x-python",
   "name": "python",
   "nbconvert_exporter": "python",
   "pygments_lexer": "ipython3",
   "version": "3.6.5"
  }
 },
 "nbformat": 4,
 "nbformat_minor": 2
}
