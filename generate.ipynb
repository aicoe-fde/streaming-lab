{
 "cells": [
  {
   "cell_type": "markdown",
   "metadata": {},
   "source": [
    "We'll start by using the [markovify](https://github.com/jsvine/markovify/) library to make some social-media-sized utterances in the style of Jane Austen.  This will be the basis for generating a synthetic social media stream."
   ]
  },
  {
   "cell_type": "code",
   "execution_count": 21,
   "metadata": {},
   "outputs": [
    {
     "name": "stdout",
     "output_type": "stream",
     "text": [
      "Her sorrow, her disappointment, her deep regret, when I take on my guard.\n",
      "Men are very proud of him.\n",
      "Some people call him earlier home.\n",
      "There is not five minutes before she was so plain and her thoughts or fix her wedding-day--and Mr. Elton sauntering about.\n",
      "The former she was sometimes quite provoked, but then she began her relation.\n",
      "The anxieties of common occurrences with all her notions of what she could do nothing at all.\n",
      "She had already mentioned their wishes and affection equally dictated, and I understand it now, and very kind reception of me which I last night to indulge them.\n",
      "Elinor could hardly separate the parts, so as not unlikely that some pains are taken to prevent her from Barton.\n",
      "They will have nothing clever to say--not one of the agitation which she had been made amiable himself; for he vowed he would have thought necessary.\n",
      "Nothing could be three.\n"
     ]
    }
   ],
   "source": [
    "import markovify\n",
    "import codecs\n",
    "\n",
    "with codecs.open(\"austen.txt\", \"r\", \"cp1252\") as f:\n",
    "    text = f.read()\n",
    "\n",
    "austen_model = markovify.Text(text)\n",
    "\n",
    "for i in range(10):\n",
    "    print(austen_model.make_short_sentence(200))"
   ]
  },
  {
   "cell_type": "markdown",
   "metadata": {},
   "source": [
    "We'll use spaCy to identify entities (mostly proper nouns and noun phrases) in these synthetic status updates and turn them into hashtags:"
   ]
  },
  {
   "cell_type": "code",
   "execution_count": 58,
   "metadata": {},
   "outputs": [
    {
     "name": "stdout",
     "output_type": "stream",
     "text": [
      "But she would now be relinquished.\n",
      "But she would now be relinquished.\n",
      "I charged her to see him to stay, and in farther justification of Mr. Knightley, who had always been evident to her to talk.\n",
      "I charged her to see him to stay, and in farther justification of Mr. #Knightley, who had always been evident to her to talk.\n",
      "I am very miserable about you, and if she felt no restraint; and, with all the while, was most unlike Anne Elliot!\n",
      "I am very miserable about you, and if she felt no restraint; and, with all the while, was most unlike #AnneElliot!\n",
      "This was too impossible to explain away the first exclamations of her beauty and no embarrassment, at least as it did all for an indulgence was exciting even painful gratitude.\n",
      "This was too impossible to explain away the #first exclamations of her beauty and no embarrassment, at least as it did all for an indulgence was exciting even painful gratitude.\n",
      "On the contrary, when people are never allowed to be in no situation to have been done, even had his time to time.\n",
      "On the contrary, when people are never allowed to be in no situation to have been done, even had his time to time.\n"
     ]
    }
   ],
   "source": [
    "import spacy\n",
    "nlp = spacy.load('en')\n",
    "\n",
    "def make_sentence(model, length=200):\n",
    "    return model.make_short_sentence(length)\n",
    "    \n",
    "def hashtagify_full(sentence):\n",
    "    doc = nlp(sentence)\n",
    "    for ent in doc.ents:\n",
    "        sentence = sentence.replace(str(ent), \"#%s\" % str(ent).replace(\" \", \"\"))\n",
    "    return (sentence, [\"#%s\" % str(ent).replace(\" \", \"\") for ent in doc.ents])\n",
    "\n",
    "def hashtagify(sentence):\n",
    "    result,_ = hashtagify_full(sentence)\n",
    "    return result\n",
    "\n",
    "for i in range(5):\n",
    "    sentence = make_sentence(austen_model)\n",
    "    print(sentence)\n",
    "    print(hashtagify(sentence))"
   ]
  },
  {
   "cell_type": "markdown",
   "metadata": {},
   "source": [
    "We'll now train two Markov models on positive and negative product reviews (taken from the [public-domain Amazon fine foods reviews dataset on Kaggle](https://www.kaggle.com/snap/amazon-fine-food-reviews/)).  We'll incorporate the results of these models into our synthetic social media stream."
   ]
  },
  {
   "cell_type": "code",
   "execution_count": 47,
   "metadata": {},
   "outputs": [],
   "source": [
    "import gzip\n",
    "\n",
    "def train_markov_gz(fn):\n",
    "    \"\"\" trains a Markov model on gzipped text data \"\"\"\n",
    "    with gzip.open(fn, \"rt\", encoding=\"utf-8\") as f:\n",
    "        text = f.read()\n",
    "    return markovify.Text(text)\n",
    "\n",
    "negative_model = train_markov_gz(\"reviews-1.txt.gz\")\n",
    "positive_model = train_markov_gz(\"reviews-5-100k.txt.gz\")"
   ]
  },
  {
   "cell_type": "code",
   "execution_count": 48,
   "metadata": {},
   "outputs": [
    {
     "data": {
      "text/plain": [
       "'This new formula other day -- GROSS!'"
      ]
     },
     "execution_count": 48,
     "metadata": {},
     "output_type": "execute_result"
    }
   ],
   "source": [
    "make_sentence(negative_model)"
   ]
  },
  {
   "cell_type": "code",
   "execution_count": 49,
   "metadata": {},
   "outputs": [
    {
     "data": {
      "text/plain": [
       "'She has trouble digesting kibble.'"
      ]
     },
     "execution_count": 49,
     "metadata": {},
     "output_type": "execute_result"
    }
   ],
   "source": [
    "make_sentence(positive_model)"
   ]
  },
  {
   "cell_type": "markdown",
   "metadata": {},
   "source": [
    "We can combine these models with relative weights, but this yields somewhat unusual results:"
   ]
  },
  {
   "cell_type": "code",
   "execution_count": 54,
   "metadata": {},
   "outputs": [],
   "source": [
    "compound_model = markovify.combine([austen_model, negative_model, positive_model], [14, 3, 3])"
   ]
  },
  {
   "cell_type": "code",
   "execution_count": 55,
   "metadata": {},
   "outputs": [
    {
     "name": "stdout",
     "output_type": "stream",
     "text": [
      "No bleeding, and no one will grab for these as a gift.\n",
      "I can best describe as chewable cardboard.\n",
      "We've tried it I would drink #about3-5minutes, then put over #250yearsold.\n",
      "Sometimes I even reorded it ,it clogs my #Cuisinart k-cup brewer.I had the medium/large size, which is way too much coconut on the inside.\n",
      "And so well supported her, but proud.\n",
      "They also love that it gets here Wed.\n",
      "They became lethargic and were in #Alaska for #manydays since I only hope that everyone has the best dessert .... fabulous fix for someone you know from this #3 cat household.\n",
      "I love it and it went up #nearly$5dollars a jar of it ends up eating this microwavable meal.\n",
      "This product is NOT the best brands I've seen, I could find on the approach of the premium beef taste that many parents and make you sweat... well, let's just say, DELICIOUS!!!! I bought it.\n",
      "I highly recommend them to my pleasant surprise, given that the salsa would be another option.\n",
      "Enjoy a cup of coffee in k-cups is typically added.\n",
      "Item arrived faster than expected.\n",
      "You won't be switching to #Baby's Only has made a wonderful opportunity to add to my dog.\n",
      "I don't even miss soda.I buy these cookies was #10weeks pregnant and had internal bleeding.\n",
      "She did not get that without hurting the dogs.\n",
      "Well, #Frank, your dream food.\n",
      "So I decided I preferred eating it because he still likes these.\n",
      "I have #12 bags to myself.\n",
      "Do not get it to people all over the ingredients, etc. expensive facecream.\n",
      "Instead it was delicious.\n"
     ]
    }
   ],
   "source": [
    "for i in range(20):\n",
    "    print(hashtagify(make_sentence(compound_model)))"
   ]
  },
  {
   "cell_type": "markdown",
   "metadata": {},
   "source": [
    "As is more or less the case in the real world, we'll assume that a small percentage of users are responsible for the bulk of social media activity, and that the bulk of users are responsible for relatively few posts.  We'll model this with a table of random user IDs that has a collection of relatively few talkative users and relatively many moderate users; the proportion of utterances from talkative users to utterances from moderate users is the inverse of the proportion of talkative users to moderate users."
   ]
  },
  {
   "cell_type": "code",
   "execution_count": 137,
   "metadata": {},
   "outputs": [],
   "source": [
    "import numpy\n",
    "import math\n",
    "import collections\n",
    "\n",
    "class UserTable(object):\n",
    "    def __init__(self, size, weights=[8, 2]):\n",
    "        self._talkative = collections.deque()\n",
    "        self._moderate = collections.deque()\n",
    "        self._size = size\n",
    "        self._cutoff = float(weights[0]) / sum(weights)\n",
    "        \n",
    "        for i in range(size):\n",
    "            new_uid = math.floor(numpy.random.uniform(10 ** 10))\n",
    "            if numpy.random.uniform() >= self._cutoff:\n",
    "                self._moderate.append(new_uid)\n",
    "            else:\n",
    "                self._talkative.append(new_uid)\n",
    "    \n",
    "    def random_uid(self):\n",
    "        def choose_from(c):\n",
    "            return c[math.floor(numpy.random.uniform() * len(c))]\n",
    "        \n",
    "        if numpy.random.uniform() >= self._cutoff:\n",
    "            return choose_from(self._talkative)\n",
    "        else:\n",
    "            return choose_from(self._moderate)\n",
    "        "
   ]
  },
  {
   "cell_type": "code",
   "execution_count": 63,
   "metadata": {},
   "outputs": [],
   "source": [
    "import seaborn"
   ]
  },
  {
   "cell_type": "markdown",
   "metadata": {},
   "source": [
    "We can see the number of times each user ID appears if we ask the `UserTable` for 1000 random user IDs:"
   ]
  },
  {
   "cell_type": "code",
   "execution_count": 77,
   "metadata": {},
   "outputs": [
    {
     "data": {
      "text/plain": [
       "<matplotlib.axes._subplots.AxesSubplot at 0x138484da0>"
      ]
     },
     "execution_count": 77,
     "metadata": {},
     "output_type": "execute_result"
    },
    {
     "data": {
      "image/png": "[encoded data removed]",
      "text/plain": [
       "<Figure size 432x288 with 1 Axes>"
      ]
     },
     "metadata": {},
     "output_type": "display_data"
    }
   ],
   "source": [
    "ut = UserTable(100)\n",
    "uids = [ut.random_uid() for i in range(1000)]\n",
    "seaborn.countplot(uids)"
   ]
  },
  {
   "cell_type": "code",
   "execution_count": 153,
   "metadata": {},
   "outputs": [],
   "source": [
    "def generate_tweets(models, weights=None, hashtag_weights=[8, 2], ut=None, seed_hashtags=[]):\n",
    "    if weights is None:\n",
    "        weights = [1] * len(models)\n",
    "    \n",
    "    if ut is None:\n",
    "        ut = UserTable(10000)\n",
    "    \n",
    "    choices = []\n",
    "    \n",
    "    total_weight = float(sum(weights))\n",
    "    \n",
    "    for i in range(len(weights)):\n",
    "        choices.append((float(sum(weights[0:i+1])) / total_weight, models[i]))\n",
    "    \n",
    "    def choose_model():\n",
    "        r = numpy.random.uniform()\n",
    "        for (p, m) in choices:\n",
    "            if r <= p:\n",
    "                return m\n",
    "        return choices[-1][1]\n",
    "    \n",
    "    seen_hashtags = set()\n",
    "    hashtags = []\n",
    "    total_hashtag_weight = float(sum(hashtag_weights))\n",
    "    for i in range(len(hashtag_weights)): \n",
    "        hashtags.append((float(sum(hashtag_weights[0:i+1])) / total_hashtag_weight, collections.deque()))\n",
    "    \n",
    "    def choose_from(c):\n",
    "        idx = math.floor(numpy.random.uniform() * len(c))\n",
    "        return c[idx]\n",
    "    \n",
    "    def store_hashtag(tag):\n",
    "        if tag not in seen_hashtags:\n",
    "            seen_hashtags.add(tag)\n",
    "            r = numpy.random.uniform()\n",
    "            for(p, deq) in hashtags:\n",
    "                if r <= p:\n",
    "                    deq.append(tag)\n",
    "    \n",
    "    def choose_hashtag():\n",
    "        r = numpy.random.uniform()\n",
    "        for(p, deq) in hashtags:\n",
    "            if r >= 1.0 - p:\n",
    "                return choose_from(deq)\n",
    "        return choose_from(hashtags[0][0])\n",
    "    \n",
    "    for tag in seed_hashtags:\n",
    "        store_hashtag(tag)\n",
    "    \n",
    "    while True:\n",
    "        tweet, tags = hashtagify_full(make_sentence(choose_model()))\n",
    "        for tag in tags:\n",
    "            store_hashtag(tag)\n",
    "        \n",
    "        this_tweet_tags = set([str(tag) for tag in tags])\n",
    "        \n",
    "        if len(seen_hashtags) > 0:\n",
    "            for i in range(min(numpy.random.poisson(3), len(seen_hashtags))):\n",
    "                tag = choose_hashtag()\n",
    "                if str(tag) not in this_tweet_tags:\n",
    "                    this_tweet_tags.add(str(tag))\n",
    "                    tweet += \" %s\" % choose_hashtag()\n",
    "            \n",
    "        yield (ut.random_uid(), tweet)"
   ]
  },
  {
   "cell_type": "code",
   "execution_count": 154,
   "metadata": {},
   "outputs": [],
   "source": [
    "t = generate_tweets([austen_model, positive_model, negative_model], [20, 3, 3], seed_hashtags=[\"#ff\", \"#followfriday\", \"#yolo\", \"#retweet\", \"#tbt\"])"
   ]
  },
  {
   "cell_type": "code",
   "execution_count": 155,
   "metadata": {},
   "outputs": [
    {
     "data": {
      "text/plain": [
       "<generator object generate_tweets at 0x138edcf10>"
      ]
     },
     "execution_count": 155,
     "metadata": {},
     "output_type": "execute_result"
    }
   ],
   "source": [
    "t"
   ]
  },
  {
   "cell_type": "code",
   "execution_count": 156,
   "metadata": {},
   "outputs": [
    {
     "data": {
      "text/plain": [
       "[(5596972478,\n",
       "  'For most people who do not need to feel like indulging in some way of getting the heavy cream, where the bad dog odor. #followfriday #ff #followfriday'),\n",
       " (5881866,\n",
       "  'In his marrying #Lucy; that some excuse for drinking claret every day. #Lucy #Lucy'),\n",
       " (8450234992,\n",
       "  'Colonel #Brandon left the room by his language or manners. #retweet'),\n",
       " (7887841568,\n",
       "  'He is just as we might there converse with her, because her real eight-and-thirty. #yolo #ff'),\n",
       " (892109985,\n",
       "  \"You couldn't pay me to write about it is the product at any rate! #ff #ff #Lucy\"),\n",
       " (6749041524, 'Then changed to cheaper ingredients. #yolo #Lucy #yolo'),\n",
       " (2798801545,\n",
       "  'She will be the harm of him; I do not let us be frightened from paying him those attentions were her words. #tbt #yolo #followfriday'),\n",
       " (8732842453,\n",
       "  'The spare rooms in the affair stood at the door, when a rap foretold a visitor, whom they had gained him in company with him to dinner, and therefore I hope he has amazing strong feelings. #Lucy #followfriday'),\n",
       " (327711262,\n",
       "  'Colonel #Brandon seems a very considerable fortune, his son was, by giving only a divided attention. #retweet #Lucy'),\n",
       " (5404373155, 'No matter which really needed no more. #tbt #ff')]"
      ]
     },
     "execution_count": 156,
     "metadata": {},
     "output_type": "execute_result"
    }
   ],
   "source": [
    "[next(t) for i in range(10)]"
   ]
  },
  {
   "cell_type": "code",
   "execution_count": null,
   "metadata": {},
   "outputs": [],
   "source": []
  }
 ],
 "metadata": {
  "kernelspec": {
   "display_name": "Python 3.6",
   "language": "python",
   "name": "jupyter"
  },
  "language_info": {
   "codemirror_mode": {
    "name": "ipython",
    "version": 3
   },
   "file_extension": ".py",
   "mimetype": "text/x-python",
   "name": "python",
   "nbconvert_exporter": "python",
   "pygments_lexer": "ipython3",
   "version": "3.6.5"
  }
 },
 "nbformat": 4,
 "nbformat_minor": 2
}
