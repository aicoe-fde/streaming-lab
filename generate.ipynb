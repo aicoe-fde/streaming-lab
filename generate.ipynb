{
 "cells": [
  {
   "cell_type": "markdown",
   "metadata": {},
   "source": [
    "We'll start by using the [markovify](https://github.com/jsvine/markovify/) library to make some social-media-sized utterances in the style of Jane Austen.  This will be the basis for generating a synthetic social media stream."
   ]
  },
  {
   "cell_type": "code",
   "execution_count": 21,
   "metadata": {},
   "outputs": [
    {
     "name": "stdout",
     "output_type": "stream",
     "text": [
      "Her sorrow, her disappointment, her deep regret, when I take on my guard.\n",
      "Men are very proud of him.\n",
      "Some people call him earlier home.\n",
      "There is not five minutes before she was so plain and her thoughts or fix her wedding-day--and Mr. Elton sauntering about.\n",
      "The former she was sometimes quite provoked, but then she began her relation.\n",
      "The anxieties of common occurrences with all her notions of what she could do nothing at all.\n",
      "She had already mentioned their wishes and affection equally dictated, and I understand it now, and very kind reception of me which I last night to indulge them.\n",
      "Elinor could hardly separate the parts, so as not unlikely that some pains are taken to prevent her from Barton.\n",
      "They will have nothing clever to say--not one of the agitation which she had been made amiable himself; for he vowed he would have thought necessary.\n",
      "Nothing could be three.\n"
     ]
    }
   ],
   "source": [
    "import markovify\n",
    "import codecs\n",
    "\n",
    "with codecs.open(\"austen.txt\", \"r\", \"cp1252\") as f:\n",
    "    text = f.read()\n",
    "\n",
    "austen_model = markovify.Text(text)\n",
    "\n",
    "for i in range(10):\n",
    "    print(austen_model.make_short_sentence(200))"
   ]
  },
  {
   "cell_type": "markdown",
   "metadata": {},
   "source": [
    "We'll use spaCy to identify entities (mostly proper nouns and noun phrases) in these synthetic status updates and turn them into hashtags:"
   ]
  },
  {
   "cell_type": "code",
   "execution_count": 58,
   "metadata": {},
   "outputs": [
    {
     "name": "stdout",
     "output_type": "stream",
     "text": [
      "But she would now be relinquished.\n",
      "But she would now be relinquished.\n",
      "I charged her to see him to stay, and in farther justification of Mr. Knightley, who had always been evident to her to talk.\n",
      "I charged her to see him to stay, and in farther justification of Mr. #Knightley, who had always been evident to her to talk.\n",
      "I am very miserable about you, and if she felt no restraint; and, with all the while, was most unlike Anne Elliot!\n",
      "I am very miserable about you, and if she felt no restraint; and, with all the while, was most unlike #AnneElliot!\n",
      "This was too impossible to explain away the first exclamations of her beauty and no embarrassment, at least as it did all for an indulgence was exciting even painful gratitude.\n",
      "This was too impossible to explain away the #first exclamations of her beauty and no embarrassment, at least as it did all for an indulgence was exciting even painful gratitude.\n",
      "On the contrary, when people are never allowed to be in no situation to have been done, even had his time to time.\n",
      "On the contrary, when people are never allowed to be in no situation to have been done, even had his time to time.\n"
     ]
    }
   ],
   "source": [
    "import spacy\n",
    "nlp = spacy.load('en')\n",
    "\n",
    "def make_sentence(model, length=200):\n",
    "    return model.make_short_sentence(length)\n",
    "    \n",
    "def hashtagify_full(sentence):\n",
    "    doc = nlp(sentence)\n",
    "    for ent in doc.ents:\n",
    "        sentence = sentence.replace(str(ent), \"#%s\" % str(ent).replace(\" \", \"\"))\n",
    "    return (sentence, [\"#%s\" % str(ent).replace(\" \", \"\") for ent in doc.ents])\n",
    "\n",
    "def hashtagify(sentence):\n",
    "    result,_ = hashtagify_full(sentence)\n",
    "    return result\n",
    "\n",
    "for i in range(5):\n",
    "    sentence = make_sentence(austen_model)\n",
    "    print(sentence)\n",
    "    print(hashtagify(sentence))"
   ]
  },
  {
   "cell_type": "markdown",
   "metadata": {},
   "source": [
    "We'll now train two Markov models on positive and negative product reviews (taken from the [public-domain Amazon fine foods reviews dataset on Kaggle](https://www.kaggle.com/snap/amazon-fine-food-reviews/)).  We'll incorporate the results of these models into our synthetic social media stream."
   ]
  },
  {
   "cell_type": "code",
   "execution_count": 47,
   "metadata": {},
   "outputs": [],
   "source": [
    "import gzip\n",
    "\n",
    "def train_markov_gz(fn):\n",
    "    \"\"\" trains a Markov model on gzipped text data \"\"\"\n",
    "    with gzip.open(fn, \"rt\", encoding=\"utf-8\") as f:\n",
    "        text = f.read()\n",
    "    return markovify.Text(text)\n",
    "\n",
    "negative_model = train_markov_gz(\"reviews-1.txt.gz\")\n",
    "positive_model = train_markov_gz(\"reviews-5-100k.txt.gz\")"
   ]
  },
  {
   "cell_type": "code",
   "execution_count": 48,
   "metadata": {},
   "outputs": [
    {
     "data": {
      "text/plain": [
       "'This new formula other day -- GROSS!'"
      ]
     },
     "execution_count": 48,
     "metadata": {},
     "output_type": "execute_result"
    }
   ],
   "source": [
    "make_sentence(negative_model)"
   ]
  },
  {
   "cell_type": "code",
   "execution_count": 49,
   "metadata": {},
   "outputs": [
    {
     "data": {
      "text/plain": [
       "'She has trouble digesting kibble.'"
      ]
     },
     "execution_count": 49,
     "metadata": {},
     "output_type": "execute_result"
    }
   ],
   "source": [
    "make_sentence(positive_model)"
   ]
  },
  {
   "cell_type": "markdown",
   "metadata": {},
   "source": [
    "We can combine these models with relative weights, but this yields somewhat unusual results:"
   ]
  },
  {
   "cell_type": "code",
   "execution_count": 54,
   "metadata": {},
   "outputs": [],
   "source": [
    "compound_model = markovify.combine([austen_model, negative_model, positive_model], [14, 3, 3])"
   ]
  },
  {
   "cell_type": "code",
   "execution_count": 55,
   "metadata": {},
   "outputs": [
    {
     "name": "stdout",
     "output_type": "stream",
     "text": [
      "No bleeding, and no one will grab for these as a gift.\n",
      "I can best describe as chewable cardboard.\n",
      "We've tried it I would drink #about3-5minutes, then put over #250yearsold.\n",
      "Sometimes I even reorded it ,it clogs my #Cuisinart k-cup brewer.I had the medium/large size, which is way too much coconut on the inside.\n",
      "And so well supported her, but proud.\n",
      "They also love that it gets here Wed.\n",
      "They became lethargic and were in #Alaska for #manydays since I only hope that everyone has the best dessert .... fabulous fix for someone you know from this #3 cat household.\n",
      "I love it and it went up #nearly$5dollars a jar of it ends up eating this microwavable meal.\n",
      "This product is NOT the best brands I've seen, I could find on the approach of the premium beef taste that many parents and make you sweat... well, let's just say, DELICIOUS!!!! I bought it.\n",
      "I highly recommend them to my pleasant surprise, given that the salsa would be another option.\n",
      "Enjoy a cup of coffee in k-cups is typically added.\n",
      "Item arrived faster than expected.\n",
      "You won't be switching to #Baby's Only has made a wonderful opportunity to add to my dog.\n",
      "I don't even miss soda.I buy these cookies was #10weeks pregnant and had internal bleeding.\n",
      "She did not get that without hurting the dogs.\n",
      "Well, #Frank, your dream food.\n",
      "So I decided I preferred eating it because he still likes these.\n",
      "I have #12 bags to myself.\n",
      "Do not get it to people all over the ingredients, etc. expensive facecream.\n",
      "Instead it was delicious.\n"
     ]
    }
   ],
   "source": [
    "for i in range(20):\n",
    "    print(hashtagify(make_sentence(compound_model)))"
   ]
  },
  {
   "cell_type": "markdown",
   "metadata": {},
   "source": [
    "As is more or less the case in the real world, we'll assume that a small percentage of users are responsible for the bulk of social media activity, and that the bulk of users are responsible for relatively few posts.  We'll model this with a table of random user IDs that has a collection of relatively few talkative users and relatively many moderate users; the proportion of utterances from talkative users to utterances from moderate users is the inverse of the proportion of talkative users to moderate users."
   ]
  },
  {
   "cell_type": "code",
   "execution_count": 137,
   "metadata": {},
   "outputs": [],
   "source": [
    "import numpy\n",
    "import math\n",
    "import collections\n",
    "\n",
    "class UserTable(object):\n",
    "    def __init__(self, size, weights=[8, 2]):\n",
    "        self._talkative = collections.deque()\n",
    "        self._moderate = collections.deque()\n",
    "        self._size = size\n",
    "        self._cutoff = float(weights[0]) / sum(weights)\n",
    "        \n",
    "        for i in range(size):\n",
    "            new_uid = math.floor(numpy.random.uniform(10 ** 10))\n",
    "            if numpy.random.uniform() >= self._cutoff:\n",
    "                self._moderate.append(new_uid)\n",
    "            else:\n",
    "                self._talkative.append(new_uid)\n",
    "    \n",
    "    def random_uid(self):\n",
    "        def choose_from(c):\n",
    "            return c[math.floor(numpy.random.uniform() * len(c))]\n",
    "        \n",
    "        if numpy.random.uniform() >= self._cutoff:\n",
    "            return choose_from(self._talkative)\n",
    "        else:\n",
    "            return choose_from(self._moderate)\n",
    "        "
   ]
  },
  {
   "cell_type": "code",
   "execution_count": 63,
   "metadata": {},
   "outputs": [],
   "source": [
    "import seaborn"
   ]
  },
  {
   "cell_type": "markdown",
   "metadata": {},
   "source": [
    "We can see the number of times each user ID appears if we ask the `UserTable` for 1000 random user IDs:"
   ]
  },
  {
   "cell_type": "code",
   "execution_count": 77,
   "metadata": {},
   "outputs": [
    {
     "data": {
      "text/plain": [
       "<matplotlib.axes._subplots.AxesSubplot at 0x138484da0>"
      ]
     },
     "execution_count": 77,
     "metadata": {},
     "output_type": "execute_result"
    },
    {
     "data": {
      "image/png": "[encoded data removed]",
      "text/plain": [
       "<Figure size 432x288 with 1 Axes>"
      ]
     },
     "metadata": {},
     "output_type": "display_data"
    }
   ],
   "source": [
    "ut = UserTable(100)\n",
    "uids = [ut.random_uid() for i in range(1000)]\n",
    "seaborn.countplot(uids)"
   ]
  },
  {
   "cell_type": "code",
   "execution_count": 169,
   "metadata": {},
   "outputs": [],
   "source": [
    "def generate_tweets(models, weights=None, hashtag_weights=[8, 2], ut=None, seed_hashtags=[]):\n",
    "    if weights is None:\n",
    "        weights = [1] * len(models)\n",
    "    \n",
    "    if ut is None:\n",
    "        ut = UserTable(10000)\n",
    "    \n",
    "    choices = []\n",
    "    \n",
    "    total_weight = float(sum(weights))\n",
    "    \n",
    "    for i in range(len(weights)):\n",
    "        choices.append((float(sum(weights[0:i+1])) / total_weight, models[i]))\n",
    "    \n",
    "    def choose_model():\n",
    "        r = numpy.random.uniform()\n",
    "        for (p, m) in choices:\n",
    "            if r <= p:\n",
    "                return m\n",
    "        return choices[-1][1]\n",
    "    \n",
    "    seen_hashtags = set()\n",
    "    hashtags = []\n",
    "    total_hashtag_weight = float(sum(hashtag_weights))\n",
    "    for i in range(len(hashtag_weights)): \n",
    "        hashtags.append((float(sum(hashtag_weights[0:i+1])) / total_hashtag_weight, collections.deque()))\n",
    "    \n",
    "    def choose_from(c):\n",
    "        idx = math.floor(numpy.random.uniform() * len(c))\n",
    "        return c[idx]\n",
    "    \n",
    "    def store_hashtag(tag):\n",
    "        if tag not in seen_hashtags:\n",
    "            seen_hashtags.add(tag)\n",
    "            r = numpy.random.uniform()\n",
    "            for(p, deq) in hashtags:\n",
    "                if r <= p:\n",
    "                    deq.append(tag)\n",
    "    \n",
    "    def choose_hashtag():\n",
    "        r = numpy.random.uniform()\n",
    "        for(p, deq) in hashtags:\n",
    "            if r <= 1.0 - p:\n",
    "                return choose_from(deq)\n",
    "        return choose_from(hashtags[0][1])\n",
    "    \n",
    "    for tag in seed_hashtags:\n",
    "        store_hashtag(str(tag))\n",
    "    \n",
    "    while True:\n",
    "        tweet, tags = hashtagify_full(make_sentence(choose_model()))\n",
    "        for tag in tags:\n",
    "            store_hashtag(str(tag)\n",
    "        \n",
    "        this_tweet_tags = set([str(tag) for tag in tags])\n",
    "        \n",
    "        if len(seen_hashtags) > 0:\n",
    "            for i in range(min(numpy.random.poisson(3), len(seen_hashtags))):\n",
    "                tag = choose_hashtag()\n",
    "                if str(tag) not in this_tweet_tags:\n",
    "                    this_tweet_tags.add(str(tag))\n",
    "                    tweet += \" %s\" % str(tag)\n",
    "            \n",
    "        yield (ut.random_uid(), tweet)"
   ]
  },
  {
   "cell_type": "code",
   "execution_count": 175,
   "metadata": {},
   "outputs": [],
   "source": [
    "seed_hashtags=[\"#ff\", \"#marketing\", \"#fail\", \"#followfriday\", \"#yolo\", \"#retweet\", \"#tbt\", \"#socialmedia\", \"#startup\", \"#blogpost\", \"#news\", \"#health\"]\n",
    "\n",
    "t = generate_tweets([austen_model, positive_model, negative_model, compound_model], [22, 4, 4, 2], seed_hashtags=seed_hashtags)"
   ]
  },
  {
   "cell_type": "code",
   "execution_count": 176,
   "metadata": {},
   "outputs": [
    {
     "data": {
      "text/plain": [
       "<generator object generate_tweets at 0x1379f8f10>"
      ]
     },
     "execution_count": 176,
     "metadata": {},
     "output_type": "execute_result"
    }
   ],
   "source": [
    "t"
   ]
  },
  {
   "cell_type": "code",
   "execution_count": 177,
   "metadata": {},
   "outputs": [
    {
     "data": {
      "text/plain": [
       "[(2650528268,\n",
       "  \"Why they don't break apart the toffee flavor which is #about65% of your standard #Ortega or Old El Paso Refried Beans with #Sausage and liked this one and #Naked plain to me - hum.. #socialmedia #tbt\"),\n",
       " (1651191973,\n",
       "  \"You can proudly present them out of crystallized ginger I've ever had is #RepublicofTea or #Numi. #startup #blogpost\"),\n",
       " (7785771831,\n",
       "  \"Mrs. #Price, in her sister's consent to it; but on her complexion, and doubt as to enquire his name merely mentioned to Mrs. #Jennings's going away, and felt no doubt that they must divide for mine. #tbt #startup #socialmedia\"),\n",
       " (2274022839,\n",
       "  'But they were absent, was perfectly accordant with that corps. #startup #RepublicofTea #followfriday #about65% #tbt'),\n",
       " (3368987188,\n",
       "  'How much so#oner #one tires of anything to deserve such a thing escape me which had previously beat Sir #William was almost cruel.'),\n",
       " (1492849303,\n",
       "  'He says, that they had seen all his family. #RepublicofTea #Price'),\n",
       " (2850258945,\n",
       "  'She endeavoured to impress on her against her of her husband in the present case. #blogpost'),\n",
       " (6471798046,\n",
       "  'They found #MrsMusgrove should be very hard upon her caprice, or any knife and fork to use. #blogpost #about65%'),\n",
       " (5209808810,\n",
       "  'Let him have his fireside enlivened by the #two gentlemen took leave. #tbt #blogpost #about65% #MrsMusgrove #Price'),\n",
       " (7385796050,\n",
       "  'It would have persuaded her, at the theatre; and, when the following very unexpected letter from #Willoughby, full of ideas and give intelligence as good-will. #blogpost #socialmedia #William #RepublicofTea #retweet'),\n",
       " (6297198922,\n",
       "  'I was raised on the dot.I keep them in the amount of pepper. #William #blogpost #Jennings #retweet'),\n",
       " (2313360426,\n",
       "  '#Fanny did not know whether he were once silent. #ff #socialmedia'),\n",
       " (7663631395,\n",
       "  '#Adayortwo, perhaps--it might not be sacrificed to policy or ambition, and she was ashamed to investigate. #followfriday #two'),\n",
       " (360489970,\n",
       "  'And we still had too much fat and lazy and was so impressed with the filter basket full of flavor and amazing crunch. #two #one'),\n",
       " (4164581906,\n",
       "  'The Crawfords, without wanting to pay her the smallest habitation which could dictate it, and he wanted merely to be placed here? #startup #Willoughby #about65%'),\n",
       " (6599892652,\n",
       "  'But even if you GF with kids to chocolate ratio. #followfriday #ff'),\n",
       " (8909037059,\n",
       "  'The gallery was too old a regard for, Mrs. #Norris wrote the letters. #followfriday #retweet'),\n",
       " (8800586696,\n",
       "  'I have a view of all that I hoped to be sure to say whether it would happen. #tbt #Fanny'),\n",
       " (3486012765,\n",
       "  'The horror of a most heavenly drive. #Naked #Numi #two #socialmedia'),\n",
       " (3334883605,\n",
       "  '#Fanny in the habit of reading was capital, and her own was very near it. #Numi #socialmedia #tbt'),\n",
       " (1247602918,\n",
       "  'Another thing I noticed the mold, tasted a worse difference. #two #Sausage #Numi'),\n",
       " (4580597594,\n",
       "  'Drink it with eggs, green onions bacon pieces and you can choose to drink with just water. #Price #Jennings #Fanny'),\n",
       " (4113987658,\n",
       "  'Every feeling of humanity or remorse; till a new set. #Ortega #Naked #one'),\n",
       " (4054138567,\n",
       "  'Mr. #Weston came into her own better conduct, and grossly unkind and ill-judged; but she would to any body can. #socialmedia #followfriday #William #blogpost #tbt'),\n",
       " (4272670312,\n",
       "  'Recently the packaging is awkward. #RepublicofTea #two #MrsMusgrove'),\n",
       " (5576056158,\n",
       "  '#LadyBertram that she had, her leaving the tender emotions which had now, under the first trouble of practising. #Jennings #about65% #RepublicofTea'),\n",
       " (5064536589,\n",
       "  'And, by what seemed a little walk. #LadyBertram #retweet #Jennings'),\n",
       " (5610911863,\n",
       "  'A few very small changes have been a very pretty presents, and laughed about it at #first she was wishing to avoid speech. #Willoughby #socialmedia'),\n",
       " (2281110128,\n",
       "  'The head had received no mark of your friendship; but I was not to be seen where he went to bed. #MrsMusgrove #Willoughby #Jennings'),\n",
       " (4558626569,\n",
       "  'There were still at #Hartfield, as he rode into it. #two #Willoughby #Jennings #Naked'),\n",
       " (450883718,\n",
       "  'My dear Mother,--Your letter has been #ayearago. #about65% #Sausage #MrsMusgrove #socialmedia'),\n",
       " (4040685400,\n",
       "  'Harriet had not been made to do what I call #Charles most capable of being communicated, which is too indulgent beyond #acoupleofmonths to the seat likewise. #ayearago #Naked'),\n",
       " (4944131828, 'But, upon my soul!'),\n",
       " (4758887717, 'Prior to ordering the large box. #Ortega #first #Willoughby'),\n",
       " (9985046415,\n",
       "  'Soft is the habits of ready submission, on the contrary, he has felt. #Sausage #socialmedia'),\n",
       " (4722436482,\n",
       "  'And as to what she said; and in the world, the more lively character were irresistible. #Hartfield #ayearago #Fanny #followfriday'),\n",
       " (468102036,\n",
       "  'Mr. and Mrs. #Palmer soon after tea; for as she was, it might be. #first #Fanny #Ortega #acoupleofmonths'),\n",
       " (8948089311, 'It is not my nature. #retweet #Ortega #blogpost #startup'),\n",
       " (9398987448,\n",
       "  'Delicious!!! I ordered these numerous times from scratch and have used other food and your good to have a new way of raising the light, if possible. #socialmedia #Numi #first #RepublicofTea'),\n",
       " (1280085628,\n",
       "  'At the further end of an affection for Edmund. #acoupleofmonths'),\n",
       " (6001557998, '#Fanny was listening to some one else.'),\n",
       " (5998954843, 'Mr. #Collins would have him play her false? #one'),\n",
       " (9105550792,\n",
       "  'She calls you, #Knightley--what can she expect protection and countenance, presented a somewhat pointed character. #Numi #Jennings'),\n",
       " (589014014,\n",
       "  'Please note that we like: teriyaki, hickory, and thai peanut are our favorite place to buy the product. #socialmedia #Jennings #MrsMusgrove'),\n",
       " (8058302541,\n",
       "  'Jane should therefore make the #twoHundredPounds, we instantly set out in #adayearlier than usual. #Ortega'),\n",
       " (52742772,\n",
       "  'Wilhelminus gladly accepted the part of my spirit; and #Elinor, in quitting them now frequently staying with them at the window till scolded away by Mr. #Woodhouse, so as to trouble you. #Naked #startup'),\n",
       " (6757880584,\n",
       "  'The proposal was his own; the servant in waiting near the table, and sat in bewildered, broken, sorrowful contemplation. #blogpost'),\n",
       " (815604627,\n",
       "  'I took care not who knows what _may_ happen? #followfriday #Numi #startup'),\n",
       " (2851769397,\n",
       "  \"#Elizabeth received her very soon after Mr. #Elton's admiration. #blogpost #Knightley #one\"),\n",
       " (8587957912, 'I wish the coffee into #one bag. #adayearlier #Ortega'),\n",
       " (6070463710,\n",
       "  'I consume it with a coupon for my oatmeal, on a regular pumpkin pie. #tbt #one #Woodhouse #Sausage'),\n",
       " (2138979192,\n",
       "  'We have had quite as good as at that moment a touch on her for allowing her even with herself. #two'),\n",
       " (8842991880,\n",
       "  \"I wouldn't recommend this product and reading about this and none of them were pretty badly dented, #another2months after it brews. #Elizabeth #RepublicofTea #startup #Numi #two #Fanny\"),\n",
       " (2636157816, 'Constancy: I am sorry. #Knightley'),\n",
       " (5861438581,\n",
       "  'This cat food is that on its own, but the #first cup all that is harder to find. #ayearago'),\n",
       " (4486486874,\n",
       "  'Too late he became known to be fearful. #Jennings #RepublicofTea #Sausage'),\n",
       " (2072660801,\n",
       "  'I did not inspire confidence. #Willoughby #about65% #startup #ayearago'),\n",
       " (1260592907,\n",
       "  '#SHARADE My #first displays the wealth and pomp of kings, Lords of the general had proceeded; for never were amiable men so scarce. #tbt #one'),\n",
       " (3560274990,\n",
       "  \"You bet I can't get enough, especially of you watching calories and sugar substitute on a low hum but that thought it would taste good or better - try this. #socialmedia #blogpost #another2months #Elinor\"),\n",
       " (9748027954,\n",
       "  \"I certainly don't want to donate it or even ask my name. #Collins #Ortega\"),\n",
       " (9514618127, 'In the course of my gig, Miss Morland? #about65%'),\n",
       " (3403720457,\n",
       "  \"My daughter and #MrsMusgrove's distressed state of things it was certain that on this work or group of works on different terms than are set forth in paragraph 1.E.8. #ff #Sausage #Willoughby #Naked #another2months\"),\n",
       " (8924159675,\n",
       "  'For her own seat, was sure would distract him. #blogpost #RepublicofTea #Palmer'),\n",
       " (3201719318,\n",
       "  'So much better fitted than my gentle #Nature could make me miserable. #about65% #RepublicofTea'),\n",
       " (7750604588,\n",
       "  'Mr. #Elton is going; dear Mrs. #Allen, by the long course of my conduct in #thepresenthour a blessing to #everymorning brought, of her being well provided with money enough for #ten. #Palmer #acoupleofmonths #ff'),\n",
       " (7542600513, 'He was fond of each observing friend. #Woodhouse #Knightley'),\n",
       " (6856720383,\n",
       "  'She has #athousand disappointments and delays from the lady herself, she should then have suspected it, but cannot very well off to her again--yet. #Nature'),\n",
       " (993865203,\n",
       "  'They have both tried #theJalapenoTrio and the other sauce since the #first few I ate much more when it cools to room temperature. #ff #retweet #Fanny'),\n",
       " (2811097749,\n",
       "  \"CHAPTER XXII CHAPTER XXIII However small #Elinor's general dependence on #Catherine's notice when service is over.\"),\n",
       " (2874317843,\n",
       "  'Do not be pleasing to hear how my brother, Mr. #Suckling, Mrs. #Bragge, had such a man who has married a very unlikely way to fortune and promotion. #another2months #Nature #Elizabeth'),\n",
       " (4944131828, 'Mr. #Weston had not a word to say. #LadyBertram #Elton'),\n",
       " (9253262641,\n",
       "  'Definitely a #LOVE or hate #5-hour energy. #blogpost #acoupleofmonths #ten'),\n",
       " (3502851438,\n",
       "  'This hemp seed oil - anything more from this mix. #one #William'),\n",
       " (4693444069, 'She was delighted with the #first to arrive. #Fanny #Nature'),\n",
       " (5842027074,\n",
       "  'Miss Bingley known what pain and pleasure, as to listen to all the felicity of her inquietude from what other #Historians have written in the street? #about65% #Ortega'),\n",
       " (1992928623,\n",
       "  \"My husband and myself won't dare use or buy another one. #SHARADE #Naked #Elton #Jennings\"),\n",
       " (8111257397,\n",
       "  'What would not hazard with #Isabella; and, she really grieved because she thought him a favourable answer. #Weston #theJalapenoTrio #about65% #William #Numi'),\n",
       " (5781939941,\n",
       "  'Those are almshouses, built by some of his new hat, that #JohnThorpe was a great deal for your sister _does_ play so well. #retweet'),\n",
       " (916021350,\n",
       "  'Mr. #Knightley, of the houses of her affection would naturally flow from the necessity of a mother to visit their connexions in the common cant. #startup #retweet'),\n",
       " (8444596314,\n",
       "  \"This tea is good for detox! i have the other took #about3days--fighting and growling over them because I workat #one. #MrsMusgrove's #followfriday #Sausage #Price\"),\n",
       " (7967134443,\n",
       "  'A simpler solution is probably because we were in different lines. #socialmedia #Woodhouse #acoupleofmonths'),\n",
       " (9282264347,\n",
       "  'It is organic along with the hot water. #theJalapenoTrio #thepresenthour'),\n",
       " (8896840677,\n",
       "  \"This is a plus!They're really good noodle to most canned tomatoes. #Fanny\"),\n",
       " (4583612612,\n",
       "  'It was not more than passable: they were summoned by the strong characters of pride and insolence. #two #Allen'),\n",
       " (8588868595,\n",
       "  'I do not turn back and walk back to #Highbury. #about3days #Bragge #Sausage'),\n",
       " (9373752154,\n",
       "  '#Gummy and mushy without the effervescence. #ayearago #Woodhouse'),\n",
       " (4597667291,\n",
       "  \"Mrs. #Ferrars and your uncle was more pleasant than their sisters', and when she compares it with less affection than his lady did soon afterwards, by rapid degrees, to the window. #Willoughby #Numi\"),\n",
       " (5260772565,\n",
       "  'Solid strips of jerky and very handy when a treat to mix with the joulies absorb heat better and softer than a few licks. #Elton #Numi #Collins #Isabella'),\n",
       " (781416308,\n",
       "  'These were thoughts, with their secondary causes, the want of liberality in some momentary apprehensions of disgrace in the profession, would be, indeed, a highly prized letter. #Isabella #Ortega #everymorning #Palmer'),\n",
       " (2707414062,\n",
       "  \"I've purchased the typical grocery store but didn't think anyone will like it. #Suckling #Elinor\"),\n",
       " (141878572,\n",
       "  'I contacted the company, but the other glowing reviews. #Elinor'),\n",
       " (7374807668,\n",
       "  \"Mr. #Dashwood's strains were more a matter of humiliation to her.--How to understand the family were to return to town with me that nothing--but how blindly I relate! #Ferrars #LadyBertram #Jennings\"),\n",
       " (5431933318,\n",
       "  'Now, after #halfanhour and the wet food for my #Keurig for even calling it a warning. #tbt #everymorning #Woodhouse'),\n",
       " (1694097411,\n",
       "  'They contained a sheet of elegant, little, hot-pressed paper, made up the lane, she then told him the happiest of human nature, at least as it was, also proved again by degrees to all this. #Elton #first #Weston #retweet #followfriday #adayearlier'),\n",
       " (3934951490,\n",
       "  'Resentment could not possibly be permitted before the others went on again. #Collins #retweet'),\n",
       " (3291116064,\n",
       "  'As for #Elizabeth could easily conceive that there may not be denied, and #Fanny either sat at least sufficiently friends to his sister. #thepresenthour'),\n",
       " (5369628940, 'What do I not give offence. #athousand #Sausage'),\n",
       " (5863660494, 'If this be yours! #theJalapenoTrio #Bragge #MrsMusgrove #two'),\n",
       " (2195377991,\n",
       "  'The hill, crowned with wood, which they had thought it right to prevent being in love with #MrsMusgrove, and all the warmth of heart was near her, lest she might be the truth; and most severely tried. #adayearlier #Collins #Elinor #Elton #Suckling #ff'),\n",
       " (1567694450, 'I heard a good income as well as quantity. #everymorning')]"
      ]
     },
     "execution_count": 177,
     "metadata": {},
     "output_type": "execute_result"
    }
   ],
   "source": [
    "[next(t) for i in range(100)]"
   ]
  },
  {
   "cell_type": "code",
   "execution_count": null,
   "metadata": {},
   "outputs": [],
   "source": []
  }
 ],
 "metadata": {
  "kernelspec": {
   "display_name": "Python 3.6",
   "language": "python",
   "name": "jupyter"
  },
  "language_info": {
   "codemirror_mode": {
    "name": "ipython",
    "version": 3
   },
   "file_extension": ".py",
   "mimetype": "text/x-python",
   "name": "python",
   "nbconvert_exporter": "python",
   "pygments_lexer": "ipython3",
   "version": "3.6.5"
  }
 },
 "nbformat": 4,
 "nbformat_minor": 2
}
