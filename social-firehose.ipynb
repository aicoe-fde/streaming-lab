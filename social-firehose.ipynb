{
 "cells": [
  {
   "cell_type": "markdown",
   "metadata": {},
   "source": [
    "# Getting started processing Kafka with Spark\n",
    "\n",
    "The first thing we'll need to do is tell Spark where to find the Kafka driver before we set Spark up.  Currently, our notebook images are built against Spark 2.2.  If you're using this with a different version of Spark, be sure to change `SPARK_VERSION` in the cell below before executing it."
   ]
  },
  {
   "cell_type": "code",
   "execution_count": 1,
   "metadata": {},
   "outputs": [],
   "source": [
    "import os\n",
    "SPARK_VERSION=\"2.2.0\"\n",
    "os.environ[\"PYSPARK_SUBMIT_ARGS\"] = \"--packages org.apache.spark:spark-sql-kafka-0-10_2.11:%s pyspark-shell\" % SPARK_VERSION"
   ]
  },
  {
   "cell_type": "markdown",
   "metadata": {},
   "source": [
    "Next up, we'll connect to Spark by establishing a `SparkSession`."
   ]
  },
  {
   "cell_type": "code",
   "execution_count": 2,
   "metadata": {
    "collapsed": true
   },
   "outputs": [],
   "source": [
    "import pyspark\n",
    "\n",
    "from pyspark.sql import SparkSession\n",
    "\n",
    "spark = SparkSession \\\n",
    "    .builder \\\n",
    "    .master(\"local[2]\") \\\n",
    "    .appName(\"Social Firehose\") \\\n",
    "    .getOrCreate()"
   ]
  },
  {
   "cell_type": "markdown",
   "metadata": {},
   "source": [
    "We're going to begin by loading the contents of a Kafka topic into a data frame.  Because Spark data frames are _lazy_, or recomputed when accessed, this data frame will always have the most recent collection of messages in it."
   ]
  },
  {
   "cell_type": "code",
   "execution_count": 3,
   "metadata": {
    "collapsed": true
   },
   "outputs": [],
   "source": [
    "df = spark \\\n",
    "  .read \\\n",
    "  .format(\"kafka\") \\\n",
    "  .option(\"kafka.bootstrap.servers\", \"my-cluster-kafka:9091\") \\\n",
    "  .option(\"subscribe\", \"social-firehose\") \\\n",
    "  .load()"
   ]
  },
  {
   "cell_type": "markdown",
   "metadata": {},
   "source": [
    "We can see that this data frame always has the most recent collection of messages by running the `count()` action on it twice with a short delay in the middle.  Note how many messages are generated in ten seconds:"
   ]
  },
  {
   "cell_type": "code",
   "execution_count": 4,
   "metadata": {},
   "outputs": [
    {
     "data": {
      "text/plain": [
       "(155212, 155296)"
      ]
     },
     "execution_count": 4,
     "metadata": {},
     "output_type": "execute_result"
    }
   ],
   "source": [
    "import time\n",
    "a = df.count()\n",
    "time.sleep(10)\n",
    "b = df.count()\n",
    "(a, b)"
   ]
  },
  {
   "cell_type": "markdown",
   "metadata": {},
   "source": [
    "We can inspect the first few messages, but they'll be in a pretty raw format."
   ]
  },
  {
   "cell_type": "code",
   "execution_count": 5,
   "metadata": {},
   "outputs": [
    {
     "data": {
      "text/plain": [
       "[Row(key=None, value=bytearray(b'{\"text\": \"My dog loves this stuff. #marketing #fail\", \"userid\": \"4775376264\", \"update_id\": \"00000000000000000001\"}'), topic=u'social-firehose', partition=0, offset=0, timestamp=datetime.datetime(2018, 4, 26, 12, 24, 1, 32000), timestampType=0),\n",
       " Row(key=None, value=bytearray(b'{\"text\": \"#Charles and #Mary had had her orders, the wind had kept her face averted, and her tongue motionless.\", \"userid\": \"0923284533\", \"update_id\": \"00000000000000000002\"}'), topic=u'social-firehose', partition=0, offset=1, timestamp=datetime.datetime(2018, 4, 26, 12, 24, 1, 167000), timestampType=0),\n",
       " Row(key=None, value=bytearray(b'{\"text\": \"When #theevening was as follows. #Mary\", \"userid\": \"0269074790\", \"update_id\": \"00000000000000000003\"}'), topic=u'social-firehose', partition=0, offset=2, timestamp=datetime.datetime(2018, 4, 26, 12, 24, 1, 290000), timestampType=0)]"
      ]
     },
     "execution_count": 5,
     "metadata": {},
     "output_type": "execute_result"
    }
   ],
   "source": [
    "df.take(3)"
   ]
  },
  {
   "cell_type": "markdown",
   "metadata": {},
   "source": [
    "Now we'll import some functions and types from the Spark library so we can do something more useful with our data set."
   ]
  },
  {
   "cell_type": "code",
   "execution_count": 6,
   "metadata": {
    "collapsed": true
   },
   "outputs": [],
   "source": [
    "from pyspark.sql.functions import explode\n",
    "from pyspark.sql.functions import split\n",
    "from pyspark.sql.functions import from_json\n",
    "from pyspark.sql.functions import column\n",
    "from pyspark.sql.types import StringType\n",
    "from pyspark.sql.types import StructType\n",
    "from pyspark.sql.types import StructField"
   ]
  },
  {
   "cell_type": "markdown",
   "metadata": {},
   "source": [
    "The first thing we'll do is extract the JSON payloads of the messages; we'll inspect the first ten as a sanity check."
   ]
  },
  {
   "cell_type": "code",
   "execution_count": 7,
   "metadata": {},
   "outputs": [
    {
     "name": "stdout",
     "output_type": "stream",
     "text": [
      "+--------------------+\n",
      "|               value|\n",
      "+--------------------+\n",
      "|{\"text\": \"My dog ...|\n",
      "|{\"text\": \"#Charle...|\n",
      "|{\"text\": \"When #t...|\n",
      "|{\"text\": \"#CHAPTE...|\n",
      "|{\"text\": \"I do no...|\n",
      "|{\"text\": \"I was l...|\n",
      "|{\"text\": \"We are ...|\n",
      "|{\"text\": \"#Adeiu ...|\n",
      "|{\"text\": \"The Adm...|\n",
      "|{\"text\": \"I don't...|\n",
      "+--------------------+\n",
      "only showing top 10 rows\n",
      "\n"
     ]
    }
   ],
   "source": [
    "values = df.select(df[\"value\"].cast(StringType()).alias(\"value\"))\n",
    "values.show(10)"
   ]
  },
  {
   "cell_type": "markdown",
   "metadata": {},
   "source": [
    "The next thing we'll do is impose some structure on the messages by converting the serialized JSON objects into actual records:\n",
    "\n",
    "1.  First, we'll declare a `StructType` for the structure of our messages (three strings, named `text`, `user_id`, and `update_id`),\n",
    "2.  Next, we'll convert the JSON strings to structures using the `from_json` dataframe function, and\n",
    "3.  Finally, we'll `SELECT` the fields of the object so we have something that looks like a flat database tuple."
   ]
  },
  {
   "cell_type": "code",
   "execution_count": 29,
   "metadata": {},
   "outputs": [
    {
     "name": "stdout",
     "output_type": "stream",
     "text": [
      "+--------------------+----------+--------------------+\n",
      "|           update_id|   user_id|                text|\n",
      "+--------------------+----------+--------------------+\n",
      "|00000000000000000001|4775376264|My dog loves this...|\n",
      "|00000000000000000002|0923284533|#Charles and #Mar...|\n",
      "|00000000000000000003|0269074790|When #theevening ...|\n",
      "|00000000000000000004|4315843244|#CHAPTERXV Mr. #W...|\n",
      "|00000000000000000005|2511009588|I do not wonder a...|\n",
      "|00000000000000000006|7167348316|I was looking for...|\n",
      "|00000000000000000007|5084291355|We are now in the...|\n",
      "|00000000000000000008|4188418893|#Adeiu my dear gi...|\n",
      "|00000000000000000009|5242205026|The Admiral has h...|\n",
      "|00000000000000000010|2887352009|I don't think I c...|\n",
      "+--------------------+----------+--------------------+\n",
      "only showing top 10 rows\n",
      "\n"
     ]
    }
   ],
   "source": [
    "structure = StructType([StructField(fn, StringType(), True) for fn in \"text userid update_id\".split()])\n",
    "records = values.select(from_json(values[\"value\"], structure).alias(\"json\")) \\\n",
    "                .select(column(\"json.update_id\"), column(\"json.userid\").alias(\"user_id\"), column(\"json.text\"))\n",
    "records.show(10)"
   ]
  },
  {
   "cell_type": "markdown",
   "metadata": {
    "collapsed": true
   },
   "source": [
    "We can perform database-style aggregations on this data frame, like identifying the users responsible for the most status updates:"
   ]
  },
  {
   "cell_type": "code",
   "execution_count": 21,
   "metadata": {},
   "outputs": [
    {
     "name": "stdout",
     "output_type": "stream",
     "text": [
      "+----------+-----+\n",
      "|   user_id|count|\n",
      "+----------+-----+\n",
      "|0922592934|   91|\n",
      "|8305094984|   88|\n",
      "|0208803656|   85|\n",
      "|6414099675|   85|\n",
      "|4322814958|   85|\n",
      "|9493244448|   84|\n",
      "|0294625135|   84|\n",
      "|6119887869|   82|\n",
      "|4425599042|   82|\n",
      "|5085703212|   82|\n",
      "|6860711509|   82|\n",
      "|1719408877|   82|\n",
      "|0438456890|   82|\n",
      "|3877766942|   82|\n",
      "|5021951084|   82|\n",
      "|1375660794|   81|\n",
      "|3401507657|   81|\n",
      "|0703247354|   81|\n",
      "|2718811439|   81|\n",
      "|1263931099|   81|\n",
      "+----------+-----+\n",
      "only showing top 20 rows\n",
      "\n"
     ]
    }
   ],
   "source": [
    "user_counts = records.groupBy(\"user_id\").count().orderBy(\"count\", ascending=False)\n",
    "user_counts.show()"
   ]
  },
  {
   "cell_type": "markdown",
   "metadata": {},
   "source": [
    "If you run that query several times with a short delay in between, you may get different results since the data frame will reflect newly-arriving messages.  Try it out!\n",
    "\n",
    "We can also count the number of users who have issued status updates (because of how we're generating the synthetic stream of updates, there is an upper bound on this number):"
   ]
  },
  {
   "cell_type": "code",
   "execution_count": 26,
   "metadata": {},
   "outputs": [
    {
     "data": {
      "text/plain": [
       "9881"
      ]
     },
     "execution_count": 26,
     "metadata": {},
     "output_type": "execute_result"
    }
   ],
   "source": [
    "records.select(\"user_id\").distinct().count()"
   ]
  },
  {
   "cell_type": "markdown",
   "metadata": {},
   "source": [
    "We can also identify the most prolix users.  You probably have some social media connections who take advantage of every extra bit of character limit; a query like this will show you who they are!"
   ]
  },
  {
   "cell_type": "code",
   "execution_count": 28,
   "metadata": {},
   "outputs": [
    {
     "name": "stdout",
     "output_type": "stream",
     "text": [
      "+----------+------------------+\n",
      "|   user_id|   avg(update_len)|\n",
      "+----------+------------------+\n",
      "|5387330032|             286.0|\n",
      "|1220312886|             276.0|\n",
      "|8114510028|             274.0|\n",
      "|0870963719|             269.0|\n",
      "|5774183600|             255.0|\n",
      "|0636996103|             254.0|\n",
      "|0127054018|             252.5|\n",
      "|3368031437|             247.0|\n",
      "|4876959382|             243.0|\n",
      "|4928759035|             242.0|\n",
      "|7123302005|             241.0|\n",
      "|3159573159|             238.0|\n",
      "|2933825725|             236.0|\n",
      "|9078604168|             233.0|\n",
      "|5497686303|232.66666666666666|\n",
      "|4193361006|             232.0|\n",
      "|3772975877|             230.5|\n",
      "|5975623269|             228.5|\n",
      "|1711685690|             228.0|\n",
      "|2245469716|             227.0|\n",
      "+----------+------------------+\n",
      "only showing top 20 rows\n",
      "\n"
     ]
    }
   ],
   "source": [
    "from pyspark.sql.functions import length\n",
    "user_loquacity = records.select(column(\"user_id\"), length(\"text\").alias(\"update_len\")) \\\n",
    "  .groupBy(\"user_id\") \\\n",
    "  .avg() \\\n",
    "  .orderBy(\"avg(update_len)\", ascending=False)\n",
    "user_loquacity.show()"
   ]
  },
  {
   "cell_type": "markdown",
   "metadata": {},
   "source": [
    "We can also identify the most popular hashtags in users' updates.  We'll start by turning each update into an array of words.  Then we'll explode each array into multiple rows, so that each row has a separate, single element, i.e.\n",
    "\n",
    "```\n",
    "1, 2, \"foo bar blah\"\n",
    "```\n",
    "\n",
    "would become\n",
    "\n",
    "```\n",
    "1, 2, [foo, bar, blah]\n",
    "```\n",
    "\n",
    "which would become\n",
    "\n",
    "```\n",
    "1, 2, foo\n",
    "1, 2, bar\n",
    "1, 2, blah\n",
    "```\n",
    "\n",
    "We'll then filter for hashtags (keeping only words starting with `#`) so we can find the most popular!\n"
   ]
  },
  {
   "cell_type": "code",
   "execution_count": 44,
   "metadata": {},
   "outputs": [],
   "source": [
    "words = records.select(explode(split(\"text\", \" \")).alias(\"word\"))\n",
    "hashtags = words.filter(column(\"word\").startswith(\"#\"))"
   ]
  },
  {
   "cell_type": "code",
   "execution_count": 45,
   "metadata": {},
   "outputs": [
    {
     "name": "stdout",
     "output_type": "stream",
     "text": [
      "+----------+\n",
      "|      word|\n",
      "+----------+\n",
      "|        My|\n",
      "|       dog|\n",
      "|     loves|\n",
      "|      this|\n",
      "|    stuff.|\n",
      "|#marketing|\n",
      "|     #fail|\n",
      "|  #Charles|\n",
      "|       and|\n",
      "|     #Mary|\n",
      "|       had|\n",
      "|       had|\n",
      "|       her|\n",
      "|   orders,|\n",
      "|       the|\n",
      "|      wind|\n",
      "|       had|\n",
      "|      kept|\n",
      "|       her|\n",
      "|      face|\n",
      "+----------+\n",
      "only showing top 20 rows\n",
      "\n"
     ]
    }
   ],
   "source": [
    "words.show()"
   ]
  },
  {
   "cell_type": "code",
   "execution_count": 46,
   "metadata": {},
   "outputs": [
    {
     "name": "stdout",
     "output_type": "stream",
     "text": [
      "+--------------+\n",
      "|          word|\n",
      "+--------------+\n",
      "|    #marketing|\n",
      "|         #fail|\n",
      "|      #Charles|\n",
      "|         #Mary|\n",
      "|   #theevening|\n",
      "|         #Mary|\n",
      "|    #CHAPTERXV|\n",
      "|    #Woodhouse|\n",
      "|         #Mary|\n",
      "|         #Mary|\n",
      "|         #Mary|\n",
      "|    #Woodhouse|\n",
      "|         #Mary|\n",
      "|        #Adeiu|\n",
      "|#SusanL.LETTER|\n",
      "|      #SEVENTH|\n",
      "|  #C.LUTTERELL|\n",
      "| #LesleyCastle|\n",
      "|     #February|\n",
      "|         #16th|\n",
      "+--------------+\n",
      "only showing top 20 rows\n",
      "\n"
     ]
    }
   ],
   "source": [
    "hashtags.show()"
   ]
  },
  {
   "cell_type": "code",
   "execution_count": 48,
   "metadata": {},
   "outputs": [
    {
     "name": "stdout",
     "output_type": "stream",
     "text": [
      "+----------+-----+\n",
      "|      word|count|\n",
      "+----------+-----+\n",
      "|    #first| 2413|\n",
      "|      #one| 2207|\n",
      "|      #two| 1862|\n",
      "|#Elizabeth| 1721|\n",
      "|    #Fanny| 1370|\n",
      "|#Catherine|  981|\n",
      "|     #Anne|  870|\n",
      "|   #Amazon|  811|\n",
      "| #Crawford|  783|\n",
      "|     #Emma|  762|\n",
      "| #Marianne|  748|\n",
      "|   #Weston|  727|\n",
      "|     #Jane|  719|\n",
      "|     #half|  676|\n",
      "|   #Bennet|  624|\n",
      "|   #Thomas|  619|\n",
      "|   #Elinor|  584|\n",
      "|   #Edward|  574|\n",
      "|    #Elton|  540|\n",
      "|   #second|  526|\n",
      "+----------+-----+\n",
      "only showing top 20 rows\n",
      "\n"
     ]
    }
   ],
   "source": [
    "hashtag_counts = hashtags.groupBy(\"word\").count().orderBy(\"count\", ascending=False)\n",
    "hashtag_counts.show()"
   ]
  },
  {
   "cell_type": "code",
   "execution_count": null,
   "metadata": {
    "collapsed": true
   },
   "outputs": [],
   "source": []
  }
 ],
 "metadata": {
  "kernelspec": {
   "display_name": "Python 2",
   "language": "python",
   "name": "python2"
  },
  "language_info": {
   "codemirror_mode": {
    "name": "ipython",
    "version": 2
   },
   "file_extension": ".py",
   "mimetype": "text/x-python",
   "name": "python",
   "nbconvert_exporter": "python",
   "pygments_lexer": "ipython2",
   "version": "2.7.13"
  }
 },
 "nbformat": 4,
 "nbformat_minor": 2
}
