{
 "cells": [
  {
   "cell_type": "markdown",
   "metadata": {},
   "source": [
    "# Getting started processing Kafka with Spark\n",
    "\n",
    "The first thing we'll need to do is tell Spark where to find the Kafka driver before we set Spark up.  Currently, our notebook images are built against Spark 2.2.  If you're using this with a different version of Spark, be sure to change `SPARK_VERSION` in the cell below before executing it."
   ]
  },
  {
   "cell_type": "code",
   "execution_count": 1,
   "metadata": {},
   "outputs": [],
   "source": [
    "import os\n",
    "SPARK_VERSION=\"2.2.0\"\n",
    "os.environ[\"PYSPARK_SUBMIT_ARGS\"] = \"--packages org.apache.spark:spark-sql-kafka-0-10_2.11:%s pyspark-shell\" % SPARK_VERSION"
   ]
  },
  {
   "cell_type": "markdown",
   "metadata": {},
   "source": [
    "Next up, we'll connect to Spark by establishing a `SparkSession`."
   ]
  },
  {
   "cell_type": "code",
   "execution_count": 2,
   "metadata": {},
   "outputs": [],
   "source": [
    "import pyspark\n",
    "\n",
    "from pyspark.sql import SparkSession\n",
    "\n",
    "spark = SparkSession \\\n",
    "    .builder \\\n",
    "    .master(\"local[2]\") \\\n",
    "    .appName(\"Social Firehose\") \\\n",
    "    .getOrCreate()"
   ]
  },
  {
   "cell_type": "markdown",
   "metadata": {},
   "source": [
    "We're going to begin by loading the contents of a Kafka topic into a data frame.  Because Spark data frames are _lazy_, or recomputed when accessed, this data frame will always have the most recent collection of messages in it."
   ]
  },
  {
   "cell_type": "code",
   "execution_count": 3,
   "metadata": {},
   "outputs": [],
   "source": [
    "df = spark \\\n",
    "  .read \\\n",
    "  .format(\"kafka\") \\\n",
    "  .option(\"kafka.bootstrap.servers\", \"kafka.kafka.svc:9092\") \\\n",
    "  .option(\"subscribe\", \"social-firehose\") \\\n",
    "  .load()"
   ]
  },
  {
   "cell_type": "markdown",
   "metadata": {},
   "source": [
    "We can see that this data frame always has the most recent collection of messages by running the `count()` action on it twice with a short delay in the middle.  Note how many messages are generated in ten seconds:"
   ]
  },
  {
   "cell_type": "code",
   "execution_count": 4,
   "metadata": {},
   "outputs": [
    {
     "data": {
      "text/plain": [
       "(1026698, 1026716)"
      ]
     },
     "execution_count": 4,
     "metadata": {},
     "output_type": "execute_result"
    }
   ],
   "source": [
    "import time\n",
    "a = df.count()\n",
    "time.sleep(10)\n",
    "b = df.count()\n",
    "(a, b)"
   ]
  },
  {
   "cell_type": "markdown",
   "metadata": {},
   "source": [
    "We can inspect the first few messages, but they'll be in a pretty raw format."
   ]
  },
  {
   "cell_type": "code",
   "execution_count": 5,
   "metadata": {},
   "outputs": [
    {
     "data": {
      "text/plain": [
       "[Row(key=None, value=bytearray(b'{\"text\": \"The furniture was in all probability have gained some news of them; and till we know that she ever should receive another so perfectly gratifying in the occasion and the style. #retweet #yolo #ff\", \"user_id\": \"9086078734\", \"update_id\": \"00000000000000000000\"}'), topic='social-firehose', partition=0, offset=0, timestamp=datetime.datetime(2018, 5, 1, 13, 55, 35, 78000), timestampType=0),\n",
       " Row(key=None, value=bytearray(b'{\"text\": \"After this period every appearance of equal permanency. #health\", \"user_id\": \"3082369400\", \"update_id\": \"00000000000000000001\"}'), topic='social-firehose', partition=0, offset=1, timestamp=datetime.datetime(2018, 5, 1, 13, 55, 35, 273000), timestampType=0),\n",
       " Row(key=None, value=bytearray(b'{\"text\": \"Worse than all! #health #news\", \"user_id\": \"7761320665\", \"update_id\": \"00000000000000000002\"}'), topic='social-firehose', partition=0, offset=2, timestamp=datetime.datetime(2018, 5, 1, 13, 55, 35, 343000), timestampType=0)]"
      ]
     },
     "execution_count": 5,
     "metadata": {},
     "output_type": "execute_result"
    }
   ],
   "source": [
    "df.take(3)"
   ]
  },
  {
   "cell_type": "markdown",
   "metadata": {},
   "source": [
    "Now we'll import some functions and types from the Spark library so we can do something more useful with our data set."
   ]
  },
  {
   "cell_type": "code",
   "execution_count": 6,
   "metadata": {},
   "outputs": [],
   "source": [
    "from pyspark.sql.functions import explode\n",
    "from pyspark.sql.functions import split\n",
    "from pyspark.sql.functions import from_json\n",
    "from pyspark.sql.functions import column\n",
    "from pyspark.sql.types import StringType\n",
    "from pyspark.sql.types import StructType\n",
    "from pyspark.sql.types import StructField"
   ]
  },
  {
   "cell_type": "markdown",
   "metadata": {},
   "source": [
    "The first thing we'll do is extract the JSON payloads of the messages; we'll inspect the first ten as a sanity check."
   ]
  },
  {
   "cell_type": "code",
   "execution_count": 7,
   "metadata": {},
   "outputs": [
    {
     "name": "stdout",
     "output_type": "stream",
     "text": [
      "+--------------------+\n",
      "|               value|\n",
      "+--------------------+\n",
      "|{\"text\": \"The fur...|\n",
      "|{\"text\": \"After t...|\n",
      "|{\"text\": \"Worse t...|\n",
      "|{\"text\": \"She is ...|\n",
      "|{\"text\": \"Miss #C...|\n",
      "|{\"text\": \"Where p...|\n",
      "|{\"text\": \"Miss #H...|\n",
      "|{\"text\": \"Why the...|\n",
      "|{\"text\": \"The ent...|\n",
      "|{\"text\": \"Emma co...|\n",
      "+--------------------+\n",
      "only showing top 10 rows\n",
      "\n"
     ]
    }
   ],
   "source": [
    "values = df.select(df[\"value\"].cast(StringType()).alias(\"value\"))\n",
    "values.show(10)"
   ]
  },
  {
   "cell_type": "markdown",
   "metadata": {},
   "source": [
    "The next thing we'll do is impose some structure on the messages by converting the serialized JSON objects into actual records:\n",
    "\n",
    "1.  First, we'll declare a `StructType` for the structure of our messages (three strings, named `text`, `user_id`, and `update_id`),\n",
    "2.  Next, we'll convert the JSON strings to structures using the `from_json` dataframe function, and\n",
    "3.  Finally, we'll `SELECT` the fields of the object so we have something that looks like a flat database tuple."
   ]
  },
  {
   "cell_type": "code",
   "execution_count": 8,
   "metadata": {},
   "outputs": [
    {
     "name": "stdout",
     "output_type": "stream",
     "text": [
      "+--------------------+----------+--------------------+\n",
      "|           update_id|   user_id|                text|\n",
      "+--------------------+----------+--------------------+\n",
      "|00000000000000000000|9086078734|The furniture was...|\n",
      "|00000000000000000001|3082369400|After this period...|\n",
      "|00000000000000000002|7761320665|Worse than all! #...|\n",
      "|00000000000000000003|2529702535|She is netting he...|\n",
      "|00000000000000000004|5580232535|Miss #Crawford wa...|\n",
      "|00000000000000000005|2143036217|Where pride and s...|\n",
      "|00000000000000000006|1605193990|Miss #Hamilton, n...|\n",
      "|00000000000000000007|1250771648|Why they are your...|\n",
      "|00000000000000000008|5606455308|The entrance of t...|\n",
      "|00000000000000000009|1658432974|Emma could not ma...|\n",
      "+--------------------+----------+--------------------+\n",
      "only showing top 10 rows\n",
      "\n"
     ]
    }
   ],
   "source": [
    "structure = StructType([StructField(fn, StringType(), True) for fn in \"text user_id update_id\".split()])\n",
    "records = values.select(from_json(values[\"value\"], structure).alias(\"json\")) \\\n",
    "                .select(column(\"json.update_id\"), column(\"json.user_id\").alias(\"user_id\"), column(\"json.text\"))\n",
    "records.show(10)"
   ]
  },
  {
   "cell_type": "markdown",
   "metadata": {
    "collapsed": true
   },
   "source": [
    "We can perform database-style aggregations on this data frame, like identifying the users responsible for the most status updates:"
   ]
  },
  {
   "cell_type": "code",
   "execution_count": 9,
   "metadata": {},
   "outputs": [
    {
     "name": "stdout",
     "output_type": "stream",
     "text": [
      "+----------+-----+\n",
      "|   user_id|count|\n",
      "+----------+-----+\n",
      "|8804573903| 1088|\n",
      "|3380222115| 1075|\n",
      "|0505683347| 1073|\n",
      "|3000579014| 1069|\n",
      "|9587912416| 1068|\n",
      "|4327469857| 1068|\n",
      "|3108294958| 1066|\n",
      "|7334906826| 1064|\n",
      "|0842976912| 1061|\n",
      "|8396961232| 1060|\n",
      "|4089612749| 1059|\n",
      "|9865588092| 1057|\n",
      "|4612190570| 1055|\n",
      "|0604401354| 1054|\n",
      "|3526538619| 1053|\n",
      "|7029874273| 1053|\n",
      "|5104535196| 1052|\n",
      "|8598111212| 1051|\n",
      "|4165442352| 1051|\n",
      "|6896171244| 1051|\n",
      "+----------+-----+\n",
      "only showing top 20 rows\n",
      "\n"
     ]
    }
   ],
   "source": [
    "user_counts = records.groupBy(\"user_id\").count().orderBy(\"count\", ascending=False)\n",
    "user_counts.show()"
   ]
  },
  {
   "cell_type": "markdown",
   "metadata": {},
   "source": [
    "If you run that query several times with a short delay in between, you may get different results since the data frame will reflect newly-arriving messages.  Try it out!\n",
    "\n",
    "We can also count the number of users who have issued status updates (because of how we're generating the synthetic stream of updates, there is an upper bound on this number):"
   ]
  },
  {
   "cell_type": "code",
   "execution_count": 10,
   "metadata": {},
   "outputs": [
    {
     "data": {
      "text/plain": [
       "19340"
      ]
     },
     "execution_count": 10,
     "metadata": {},
     "output_type": "execute_result"
    }
   ],
   "source": [
    "records.select(\"user_id\").distinct().count()"
   ]
  },
  {
   "cell_type": "markdown",
   "metadata": {},
   "source": [
    "We can also identify the most prolix users.  You probably have some social media connections who take advantage of every extra bit of character limit; a query like this will show you who they are!"
   ]
  },
  {
   "cell_type": "code",
   "execution_count": 11,
   "metadata": {},
   "outputs": [
    {
     "name": "stdout",
     "output_type": "stream",
     "text": [
      "+----------+---------------+\n",
      "|   user_id|avg(update_len)|\n",
      "+----------+---------------+\n",
      "|0630541675|          330.0|\n",
      "|0391736751|          316.0|\n",
      "|2506022037|          307.0|\n",
      "|5821398050|          302.0|\n",
      "|1410371328|          299.0|\n",
      "|1412562247|          284.0|\n",
      "|7790898195|          277.0|\n",
      "|0223724881|          276.0|\n",
      "|7578073215|          275.0|\n",
      "|6407600570|          274.0|\n",
      "|3076549109|          273.0|\n",
      "|7999575942|          273.0|\n",
      "|4408278586|          272.0|\n",
      "|8725814325|          272.0|\n",
      "|4764843224|          269.0|\n",
      "|7652850466|          269.0|\n",
      "|1036217429|          268.0|\n",
      "|1432169939|          268.0|\n",
      "|5449920443|          268.0|\n",
      "|2160446304|          267.5|\n",
      "+----------+---------------+\n",
      "only showing top 20 rows\n",
      "\n"
     ]
    }
   ],
   "source": [
    "from pyspark.sql.functions import length\n",
    "user_loquacity = records.select(column(\"user_id\"), length(\"text\").alias(\"update_len\")) \\\n",
    "  .groupBy(\"user_id\") \\\n",
    "  .avg() \\\n",
    "  .orderBy(\"avg(update_len)\", ascending=False)\n",
    "user_loquacity.show()"
   ]
  },
  {
   "cell_type": "markdown",
   "metadata": {},
   "source": [
    "We can also identify the most popular hashtags in users' updates.  We'll start by turning each update into an array of words.  Then we'll explode each array into multiple rows, so that each row has a separate, single element, i.e.\n",
    "\n",
    "```\n",
    "1, 2, \"foo bar blah\"\n",
    "```\n",
    "\n",
    "would become\n",
    "\n",
    "```\n",
    "1, 2, [foo, bar, blah]\n",
    "```\n",
    "\n",
    "which would become\n",
    "\n",
    "```\n",
    "1, 2, foo\n",
    "1, 2, bar\n",
    "1, 2, blah\n",
    "```\n",
    "\n",
    "We'll then filter for hashtags (keeping only words starting with `#`) so we can find the most popular!\n"
   ]
  },
  {
   "cell_type": "code",
   "execution_count": 12,
   "metadata": {},
   "outputs": [],
   "source": [
    "words = records.select(explode(split(\"text\", \" \")).alias(\"word\"))\n",
    "hashtags = words.filter(column(\"word\").startswith(\"#\"))"
   ]
  },
  {
   "cell_type": "code",
   "execution_count": 13,
   "metadata": {},
   "outputs": [
    {
     "name": "stdout",
     "output_type": "stream",
     "text": [
      "+-----------+\n",
      "|       word|\n",
      "+-----------+\n",
      "|        The|\n",
      "|  furniture|\n",
      "|        was|\n",
      "|         in|\n",
      "|        all|\n",
      "|probability|\n",
      "|       have|\n",
      "|     gained|\n",
      "|       some|\n",
      "|       news|\n",
      "|         of|\n",
      "|      them;|\n",
      "|        and|\n",
      "|       till|\n",
      "|         we|\n",
      "|       know|\n",
      "|       that|\n",
      "|        she|\n",
      "|       ever|\n",
      "|     should|\n",
      "+-----------+\n",
      "only showing top 20 rows\n",
      "\n"
     ]
    }
   ],
   "source": [
    "words.show()"
   ]
  },
  {
   "cell_type": "code",
   "execution_count": 14,
   "metadata": {},
   "outputs": [
    {
     "name": "stdout",
     "output_type": "stream",
     "text": [
      "+-------------+\n",
      "|         word|\n",
      "+-------------+\n",
      "|     #retweet|\n",
      "|        #yolo|\n",
      "|          #ff|\n",
      "|      #health|\n",
      "|      #health|\n",
      "|        #news|\n",
      "|          #ff|\n",
      "|    #Crawford|\n",
      "|        #news|\n",
      "|        #fail|\n",
      "|     #retweet|\n",
      "|#followfriday|\n",
      "|        #news|\n",
      "|   #Hamilton,|\n",
      "|   #MrsSmith,|\n",
      "|    #MrsSmith|\n",
      "|    #MrsSmith|\n",
      "|    #MrsSmith|\n",
      "|       #Bath,|\n",
      "|        #Anne|\n",
      "+-------------+\n",
      "only showing top 20 rows\n",
      "\n"
     ]
    }
   ],
   "source": [
    "hashtags.show()"
   ]
  },
  {
   "cell_type": "code",
   "execution_count": 15,
   "metadata": {},
   "outputs": [
    {
     "name": "stdout",
     "output_type": "stream",
     "text": [
      "+----------+-----+\n",
      "|      word|count|\n",
      "+----------+-----+\n",
      "|    #first|15356|\n",
      "|      #one|13781|\n",
      "|      #two|11384|\n",
      "|#Elizabeth|10312|\n",
      "|    #Fanny| 8513|\n",
      "|     #Anne| 5927|\n",
      "|#Catherine| 5719|\n",
      "| #Marianne| 4842|\n",
      "|   #Amazon| 4779|\n",
      "| #Crawford| 4468|\n",
      "|     #Emma| 4178|\n",
      "|   #Elinor| 3973|\n",
      "|     #Jane| 3838|\n",
      "|   #Weston| 3834|\n",
      "|    #Darcy| 3793|\n",
      "|   #Bennet| 3620|\n",
      "|     #half| 3521|\n",
      "|    #three| 3477|\n",
      "|   #second| 3459|\n",
      "|   #Thomas| 3289|\n",
      "+----------+-----+\n",
      "only showing top 20 rows\n",
      "\n"
     ]
    }
   ],
   "source": [
    "hashtag_counts = hashtags.groupBy(\"word\").count().orderBy(\"count\", ascending=False)\n",
    "hashtag_counts.show()"
   ]
  },
  {
   "cell_type": "code",
   "execution_count": null,
   "metadata": {},
   "outputs": [],
   "source": []
  }
 ],
 "metadata": {
  "kernelspec": {
   "display_name": "Python 3",
   "language": "python",
   "name": "python3"
  },
  "language_info": {
   "codemirror_mode": {
    "name": "ipython",
    "version": 3
   },
   "file_extension": ".py",
   "mimetype": "text/x-python",
   "name": "python",
   "nbconvert_exporter": "python",
   "pygments_lexer": "ipython3",
   "version": "3.6.3"
  }
 },
 "nbformat": 4,
 "nbformat_minor": 2
}
